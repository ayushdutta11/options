{
 "cells": [
  {
   "cell_type": "code",
   "execution_count": 124,
   "id": "657bb0eb",
   "metadata": {
    "scrolled": true
   },
   "outputs": [
    {
     "name": "stdout",
     "output_type": "stream",
     "text": [
      "Requirement already satisfied: yfinance in ./opt/anaconda3/lib/python3.9/site-packages (0.1.74)\n",
      "Requirement already satisfied: numpy>=1.15 in ./opt/anaconda3/lib/python3.9/site-packages (from yfinance) (1.20.3)\n",
      "Requirement already satisfied: multitasking>=0.0.7 in ./opt/anaconda3/lib/python3.9/site-packages (from yfinance) (0.0.11)\n",
      "Requirement already satisfied: requests>=2.26 in ./opt/anaconda3/lib/python3.9/site-packages (from yfinance) (2.26.0)\n",
      "Requirement already satisfied: pandas>=0.24.0 in ./opt/anaconda3/lib/python3.9/site-packages (from yfinance) (1.3.4)\n",
      "Requirement already satisfied: lxml>=4.5.1 in ./opt/anaconda3/lib/python3.9/site-packages (from yfinance) (4.6.3)\n",
      "Requirement already satisfied: python-dateutil>=2.7.3 in ./opt/anaconda3/lib/python3.9/site-packages (from pandas>=0.24.0->yfinance) (2.8.2)\n",
      "Requirement already satisfied: pytz>=2017.3 in ./opt/anaconda3/lib/python3.9/site-packages (from pandas>=0.24.0->yfinance) (2021.3)\n",
      "Requirement already satisfied: six>=1.5 in ./opt/anaconda3/lib/python3.9/site-packages (from python-dateutil>=2.7.3->pandas>=0.24.0->yfinance) (1.16.0)\n",
      "Requirement already satisfied: urllib3<1.27,>=1.21.1 in ./opt/anaconda3/lib/python3.9/site-packages (from requests>=2.26->yfinance) (1.26.7)\n",
      "Requirement already satisfied: idna<4,>=2.5 in ./opt/anaconda3/lib/python3.9/site-packages (from requests>=2.26->yfinance) (3.2)\n",
      "Requirement already satisfied: certifi>=2017.4.17 in ./opt/anaconda3/lib/python3.9/site-packages (from requests>=2.26->yfinance) (2021.10.8)\n",
      "Requirement already satisfied: charset-normalizer~=2.0.0 in ./opt/anaconda3/lib/python3.9/site-packages (from requests>=2.26->yfinance) (2.0.4)\n",
      "Requirement already satisfied: plotly_express==0.4.0 in ./opt/anaconda3/lib/python3.9/site-packages (0.4.0)\n",
      "Requirement already satisfied: patsy>=0.5 in ./opt/anaconda3/lib/python3.9/site-packages (from plotly_express==0.4.0) (0.5.2)\n",
      "Requirement already satisfied: plotly>=4.0.0 in ./opt/anaconda3/lib/python3.9/site-packages (from plotly_express==0.4.0) (5.3.0)\n",
      "Requirement already satisfied: numpy>=1.11 in ./opt/anaconda3/lib/python3.9/site-packages (from plotly_express==0.4.0) (1.20.3)\n",
      "Requirement already satisfied: pandas>=0.20.0 in ./opt/anaconda3/lib/python3.9/site-packages (from plotly_express==0.4.0) (1.3.4)\n",
      "Requirement already satisfied: scipy>=0.18 in ./opt/anaconda3/lib/python3.9/site-packages (from plotly_express==0.4.0) (1.7.1)\n",
      "Requirement already satisfied: statsmodels>=0.9.0 in ./opt/anaconda3/lib/python3.9/site-packages (from plotly_express==0.4.0) (0.12.2)\n",
      "Requirement already satisfied: python-dateutil>=2.7.3 in ./opt/anaconda3/lib/python3.9/site-packages (from pandas>=0.20.0->plotly_express==0.4.0) (2.8.2)\n",
      "Requirement already satisfied: pytz>=2017.3 in ./opt/anaconda3/lib/python3.9/site-packages (from pandas>=0.20.0->plotly_express==0.4.0) (2021.3)\n",
      "Requirement already satisfied: six in ./opt/anaconda3/lib/python3.9/site-packages (from patsy>=0.5->plotly_express==0.4.0) (1.16.0)\n",
      "Requirement already satisfied: tenacity>=6.2.0 in ./opt/anaconda3/lib/python3.9/site-packages (from plotly>=4.0.0->plotly_express==0.4.0) (8.0.1)\n"
     ]
    }
   ],
   "source": [
    "!pip install yfinance\n",
    "!pip install plotly_express==0.4.0\n"
   ]
  },
  {
   "cell_type": "code",
   "execution_count": 1,
   "id": "83a55ad0",
   "metadata": {},
   "outputs": [],
   "source": [
    "import yfinance as yahooFinance\n",
    "import pandas as pd\n",
    "import numpy as np\n",
    "import datetime"
   ]
  },
  {
   "cell_type": "code",
   "execution_count": 7,
   "id": "dc20719c",
   "metadata": {
    "scrolled": true
   },
   "outputs": [
    {
     "name": "stdout",
     "output_type": "stream",
     "text": [
      "         contractSymbol             lastTradeDate  strike  lastPrice     bid  \\\n",
      "0   TSLA221007C00100000 2022-09-30 19:50:41+00:00   100.0     166.45  164.95   \n",
      "1   TSLA221007C00110000 2022-09-26 19:44:15+00:00   110.0     167.90  154.75   \n",
      "2   TSLA221007C00120000 2022-09-29 13:51:37+00:00   120.0     156.95  144.75   \n",
      "3   TSLA221007C00130000 2022-09-30 15:26:13+00:00   130.0     143.90  134.75   \n",
      "4   TSLA221007C00140000 2022-09-28 14:14:26+00:00   140.0     140.35  125.00   \n",
      "..                  ...                       ...     ...        ...     ...   \n",
      "72  TSLA221007C00570000 2022-09-20 13:30:02+00:00   570.0       0.02    0.00   \n",
      "73  TSLA221007C00580000 2022-09-23 13:35:03+00:00   580.0       0.01    0.00   \n",
      "74  TSLA221007C00590000 2022-09-15 16:45:51+00:00   590.0       0.02    0.00   \n",
      "75  TSLA221007C00600000 2022-09-23 19:12:53+00:00   600.0       0.01    0.00   \n",
      "76  TSLA221007C00610000 2022-09-29 14:25:51+00:00   610.0       0.01    0.00   \n",
      "\n",
      "       ask     change  percentChange  volume  openInterest  impliedVolatility  \\\n",
      "0   166.40 -15.960007      -8.749524   448.0            32           3.296877   \n",
      "1   156.30   0.000000       0.000000    47.0            46           2.820315   \n",
      "2   146.30   0.000000       0.000000     1.0            12           2.560550   \n",
      "3   136.30  -8.400009      -5.515436     2.0             7           2.322270   \n",
      "4   126.30   0.000000       0.000000     1.0           133           2.216801   \n",
      "..     ...        ...            ...     ...           ...                ...   \n",
      "72    0.02   0.000000       0.000000     NaN             5           1.656252   \n",
      "73    0.01   0.000000       0.000000     1.0            43           1.625002   \n",
      "74    0.01   0.000000       0.000000     NaN             2           1.625002   \n",
      "75    0.01   0.000000       0.000000    15.0            40           1.687502   \n",
      "76    0.01   0.000000       0.000000     2.0             5           1.687502   \n",
      "\n",
      "    inTheMoney contractSize currency  \n",
      "0         True      REGULAR      USD  \n",
      "1         True      REGULAR      USD  \n",
      "2         True      REGULAR      USD  \n",
      "3         True      REGULAR      USD  \n",
      "4         True      REGULAR      USD  \n",
      "..         ...          ...      ...  \n",
      "72       False      REGULAR      USD  \n",
      "73       False      REGULAR      USD  \n",
      "74       False      REGULAR      USD  \n",
      "75       False      REGULAR      USD  \n",
      "76       False      REGULAR      USD  \n",
      "\n",
      "[77 rows x 14 columns]\n",
      "0     166.40\n",
      "1     156.30\n",
      "2     146.30\n",
      "3     136.30\n",
      "4     126.30\n",
      "       ...  \n",
      "72      0.02\n",
      "73      0.01\n",
      "74      0.01\n",
      "75      0.01\n",
      "76      0.01\n",
      "Name: ask, Length: 77, dtype: float64\n"
     ]
    }
   ],
   "source": [
    "#Get Tesla Yahoo Finance Historical Data for the past year\n",
    "TeslaInfo = yahooFinance.Ticker(\"TSLA\")\n",
    "\n",
    "today = datetime.datetime.now()\n",
    "one_y = today.replace(year=today.year - 1)\n",
    "\n",
    "df = TeslaInfo.history(start = one_y, end = today) \n",
    "df = df.sort_values(by=\"Date\")\n",
    "df = df.dropna()\n",
    "\n",
    "#Create Returns Column\n",
    "df1 = df.assign(closeDayBef = df.Close.shift(1))\n",
    "df1['Returns'] = (df.Close - df1.closeDayBef)/(df1.closeDayBef)\n",
    "#print(df1)\n",
    "\n",
    "#Create Option Chain\n",
    "exp = '2022-10-07'\n",
    "opt = TeslaInfo.option_chain('2022-10-07')\n",
    "r = opt.calls\n",
    "print(r)\n",
    "askprice = r['ask']\n",
    "print(askprice)"
   ]
  },
  {
   "cell_type": "code",
   "execution_count": 8,
   "id": "538f84cc-5695-44ac-aab9-8fa3ce6ea3a5",
   "metadata": {},
   "outputs": [],
   "source": [
    "import math\n",
    "from scipy.stats import norm\n",
    "from math import *\n",
    "\n",
    "# S = Current Stock Price\n",
    "# K = Option Strike Price\n",
    "# T = Time until option expiry (in stock days)\n",
    "# r = Risk free interest rate\n",
    "# sigma = annual volatility of the returns of the stock\n",
    "# C is Calculated Call Option Price\n",
    "\n",
    "def black_scholes(S, K, T, r, sigma):\n",
    "    #d1 = np.log(S/(K/(1 + r)**T)/(sigma*sqrt(T))) + (sigma*sqrt(T))/2\n",
    "    d1 = (np.log(S/K) + (r + ((sigma**2)/2))*T)/(sigma*np.sqrt(T))\n",
    "    d2 = d1 - sigma * np.sqrt(T)\n",
    "    #return S * norm.cdf(d1) - (K/(1 + r)**T) * norm.cdf(d2)\n",
    "    \n",
    "    #d1 = (np.log(S/K)+(r+sigma**2/2.)*T)/(sigma*sqrt(T))\n",
    "    #d2 = d1 - sigma * np.sqrt(T)\n",
    "    #calls\n",
    "    return S * norm.cdf(d1) - K*exp(-r * T) * norm.cdf(d2)\n",
    "    \n",
    "# Calculate Volatility (sigma)\n",
    "sigma = np.sqrt(252) * df1['Returns'].std()"
   ]
  },
  {
   "cell_type": "code",
   "execution_count": 11,
   "id": "bac75363-7e3b-4c9a-b19f-faecd3b3cd3b",
   "metadata": {},
   "outputs": [
    {
     "name": "stdout",
     "output_type": "stream",
     "text": [
      "         contractSymbol             lastTradeDate  strike  lastPrice     bid  \\\n",
      "0   TSLA221007C00100000 2022-09-30 19:50:41+00:00   100.0     166.45  164.95   \n",
      "1   TSLA221007C00110000 2022-09-26 19:44:15+00:00   110.0     167.90  154.75   \n",
      "2   TSLA221007C00120000 2022-09-29 13:51:37+00:00   120.0     156.95  144.75   \n",
      "3   TSLA221007C00130000 2022-09-30 15:26:13+00:00   130.0     143.90  134.75   \n",
      "4   TSLA221007C00140000 2022-09-28 14:14:26+00:00   140.0     140.35  125.00   \n",
      "5   TSLA221007C00150000 2022-09-30 19:52:48+00:00   150.0     116.25  115.25   \n",
      "6   TSLA221007C00160000 2022-09-30 18:49:38+00:00   160.0     106.75  105.10   \n",
      "7   TSLA221007C00170000 2022-09-30 19:19:03+00:00   170.0      97.12   95.00   \n",
      "8   TSLA221007C00180000 2022-09-27 18:13:44+00:00   180.0      99.20   84.45   \n",
      "9   TSLA221007C00190000 2022-09-30 19:19:03+00:00   190.0      77.21   74.90   \n",
      "10  TSLA221007C00200000 2022-09-30 19:59:13+00:00   200.0      65.50   65.40   \n",
      "11  TSLA221007C00205000 2022-09-30 16:11:17+00:00   205.0      65.92   60.15   \n",
      "12  TSLA221007C00210000 2022-09-30 19:54:40+00:00   210.0      56.20   55.35   \n",
      "13  TSLA221007C00215000 2022-09-30 19:46:43+00:00   215.0      52.39   50.50   \n",
      "14  TSLA221007C00220000 2022-09-30 19:50:54+00:00   220.0      47.25   45.95   \n",
      "15  TSLA221007C00225000 2022-09-30 19:54:38+00:00   225.0      41.28   41.00   \n",
      "16  TSLA221007C00230000 2022-09-30 19:45:12+00:00   230.0      38.39   36.60   \n",
      "17  TSLA221007C00235000 2022-09-30 19:30:28+00:00   235.0      34.00   32.20   \n",
      "18  TSLA221007C00240000 2022-09-30 19:59:33+00:00   240.0      28.20   27.85   \n",
      "19  TSLA221007C00245000 2022-09-30 19:59:38+00:00   245.0      23.92   23.90   \n",
      "20  TSLA221007C00250000 2022-09-30 19:59:36+00:00   250.0      20.17   20.10   \n",
      "21  TSLA221007C00255000 2022-09-30 19:59:16+00:00   255.0      16.65   16.65   \n",
      "22  TSLA221007C00260000 2022-09-30 19:59:56+00:00   260.0      13.60   13.50   \n",
      "23  TSLA221007C00265000 2022-09-30 19:59:57+00:00   265.0      10.90   10.65   \n",
      "24  TSLA221007C00270000 2022-09-30 19:59:59+00:00   270.0       8.35    8.20   \n",
      "25  TSLA221007C00275000 2022-09-30 19:59:59+00:00   275.0       6.25    6.20   \n",
      "26  TSLA221007C00280000 2022-09-30 19:59:59+00:00   280.0       4.75    4.50   \n",
      "27  TSLA221007C00282500 2022-09-30 19:59:58+00:00   282.5       3.75    3.75   \n",
      "28  TSLA221007C00285000 2022-09-30 19:59:55+00:00   285.0       3.23    3.20   \n",
      "29  TSLA221007C00287500 2022-09-30 19:59:52+00:00   287.5       2.75    2.67   \n",
      "30  TSLA221007C00290000 2022-09-30 19:59:59+00:00   290.0       2.27    2.25   \n",
      "31  TSLA221007C00292500 2022-09-30 19:59:47+00:00   292.5       1.93    1.86   \n",
      "32  TSLA221007C00295000 2022-09-30 19:59:56+00:00   295.0       1.56    1.56   \n",
      "33  TSLA221007C00297500 2022-09-30 19:59:56+00:00   297.5       1.31    1.27   \n",
      "34  TSLA221007C00300000 2022-09-30 19:59:59+00:00   300.0       1.09    1.07   \n",
      "35  TSLA221007C00305000 2022-09-30 19:59:58+00:00   305.0       0.75    0.72   \n",
      "36  TSLA221007C00310000 2022-09-30 19:59:58+00:00   310.0       0.52    0.51   \n",
      "37  TSLA221007C00315000 2022-09-30 19:59:53+00:00   315.0       0.38    0.36   \n",
      "38  TSLA221007C00320000 2022-09-30 19:59:50+00:00   320.0       0.26    0.26   \n",
      "39  TSLA221007C00325000 2022-09-30 19:59:29+00:00   325.0       0.20    0.18   \n",
      "40  TSLA221007C00330000 2022-09-30 19:59:59+00:00   330.0       0.18    0.15   \n",
      "41  TSLA221007C00335000 2022-09-30 19:59:46+00:00   335.0       0.12    0.12   \n",
      "42  TSLA221007C00340000 2022-09-30 19:59:49+00:00   340.0       0.11    0.10   \n",
      "43  TSLA221007C00345000 2022-09-30 19:58:23+00:00   345.0       0.07    0.07   \n",
      "44  TSLA221007C00350000 2022-09-30 19:59:40+00:00   350.0       0.07    0.07   \n",
      "45  TSLA221007C00355000 2022-09-30 19:49:38+00:00   355.0       0.06    0.04   \n",
      "46  TSLA221007C00360000 2022-09-30 19:28:50+00:00   360.0       0.03    0.03   \n",
      "47  TSLA221007C00365000 2022-09-30 19:59:22+00:00   365.0       0.05    0.03   \n",
      "48  TSLA221007C00370000 2022-09-30 19:33:20+00:00   370.0       0.02    0.02   \n",
      "49  TSLA221007C00375000 2022-09-30 19:59:42+00:00   375.0       0.02    0.02   \n",
      "50  TSLA221007C00380000 2022-09-30 19:49:27+00:00   380.0       0.03    0.01   \n",
      "51  TSLA221007C00385000 2022-09-30 18:53:23+00:00   385.0       0.02    0.01   \n",
      "52  TSLA221007C00390000 2022-09-30 17:50:16+00:00   390.0       0.01    0.01   \n",
      "53  TSLA221007C00395000 2022-09-30 19:33:53+00:00   395.0       0.02    0.01   \n",
      "54  TSLA221007C00400000 2022-09-30 19:26:02+00:00   400.0       0.02    0.01   \n",
      "55  TSLA221007C00410000 2022-09-30 19:26:11+00:00   410.0       0.01    0.00   \n",
      "56  TSLA221007C00420000 2022-09-30 15:10:26+00:00   420.0       0.01    0.00   \n",
      "57  TSLA221007C00425000 2022-09-30 13:33:05+00:00   425.0       0.01    0.00   \n",
      "58  TSLA221007C00430000 2022-09-29 14:12:31+00:00   430.0       0.01    0.00   \n",
      "59  TSLA221007C00440000 2022-09-28 19:01:55+00:00   440.0       0.01    0.00   \n",
      "60  TSLA221007C00450000 2022-09-28 14:00:53+00:00   450.0       0.02    0.00   \n",
      "61  TSLA221007C00460000 2022-09-29 13:39:45+00:00   460.0       0.01    0.00   \n",
      "62  TSLA221007C00470000 2022-09-28 17:19:34+00:00   470.0       0.01    0.00   \n",
      "63  TSLA221007C00480000 2022-09-26 14:52:20+00:00   480.0       0.01    0.00   \n",
      "64  TSLA221007C00490000 2022-09-26 18:20:06+00:00   490.0       0.01    0.00   \n",
      "65  TSLA221007C00500000 2022-09-29 13:30:00+00:00   500.0       0.01    0.00   \n",
      "66  TSLA221007C00510000 2022-09-15 19:23:43+00:00   510.0       0.05    0.00   \n",
      "67  TSLA221007C00520000 2022-09-20 16:53:59+00:00   520.0       0.03    0.00   \n",
      "68  TSLA221007C00530000 2022-09-23 19:03:17+00:00   530.0       0.02    0.00   \n",
      "69  TSLA221007C00540000 2022-09-21 19:11:47+00:00   540.0       0.02    0.00   \n",
      "70  TSLA221007C00550000 2022-09-21 19:55:30+00:00   550.0       0.01    0.00   \n",
      "71  TSLA221007C00560000 2022-09-12 14:24:32+00:00   560.0       0.02    0.00   \n",
      "72  TSLA221007C00570000 2022-09-20 13:30:02+00:00   570.0       0.02    0.00   \n",
      "73  TSLA221007C00580000 2022-09-23 13:35:03+00:00   580.0       0.01    0.00   \n",
      "74  TSLA221007C00590000 2022-09-15 16:45:51+00:00   590.0       0.02    0.00   \n",
      "75  TSLA221007C00600000 2022-09-23 19:12:53+00:00   600.0       0.01    0.00   \n",
      "76  TSLA221007C00610000 2022-09-29 14:25:51+00:00   610.0       0.01    0.00   \n",
      "\n",
      "       ask     change  percentChange   volume  openInterest  \\\n",
      "0   166.40 -15.960007      -8.749524    448.0            32   \n",
      "1   156.30   0.000000       0.000000     47.0            46   \n",
      "2   146.30   0.000000       0.000000      1.0            12   \n",
      "3   136.30  -8.400009      -5.515436      2.0             7   \n",
      "4   126.30   0.000000       0.000000      1.0           133   \n",
      "5   116.55  -6.500000      -5.295316     36.0           114   \n",
      "6   105.90  -6.000000      -5.321508     39.0            20   \n",
      "7    96.25 -15.729996     -13.938853      5.0            20   \n",
      "8    86.50   0.000000       0.000000      8.0             7   \n",
      "9    76.45  -0.790001      -1.012822      4.0            47   \n",
      "10   66.10  -3.000000      -4.379562    393.0            71   \n",
      "11   61.60  -4.080002      -5.828574      3.0            26   \n",
      "12   56.30  -3.200001      -5.387207     95.0            53   \n",
      "13   51.40  -2.200001      -4.030044     13.0            27   \n",
      "14   46.85  -1.470001      -3.017244    208.0           138   \n",
      "15   42.15  -2.720001      -6.181821     33.0           188   \n",
      "16   37.40  -1.760002      -4.383567    193.0           173   \n",
      "17   33.10  -1.700001      -4.761907    195.0           298   \n",
      "18   28.45  -2.549999      -8.292680    746.0           449   \n",
      "19   24.75  -3.030001     -11.243045    971.0           269   \n",
      "20   20.65  -3.080000     -13.247311   3558.0           718   \n",
      "21   17.25  -3.100000     -15.696205   1449.0           668   \n",
      "22   13.70  -3.100000     -18.562876   9714.0          1452   \n",
      "23   10.95  -2.300000     -17.424244   8494.0          1274   \n",
      "24    8.40  -2.450000     -22.685184  30119.0          4497   \n",
      "25    6.30  -2.180000     -25.860027  28665.0          3441   \n",
      "26    4.65  -1.600000     -25.196850  25539.0          5571   \n",
      "27    3.95  -1.780000     -32.188070   6792.0          2150   \n",
      "28    3.30  -1.570000     -32.708336  16508.0          5130   \n",
      "29    2.75  -1.300000     -32.098766   5314.0          2279   \n",
      "30    2.34  -1.280000     -36.056335  23409.0          6909   \n",
      "31    1.92  -1.080000     -35.880398   5588.0          1666   \n",
      "32    1.60  -1.090000     -41.132080  16460.0          5228   \n",
      "33    1.32  -0.890000     -40.454548   7455.0          1622   \n",
      "34    1.10  -0.740000     -40.437160  48853.0         29153   \n",
      "35    0.76  -0.570000     -43.181820   9993.0          5060   \n",
      "36    0.53  -0.400000     -43.478264  15300.0          7616   \n",
      "37    0.38  -0.270000     -41.538460   8427.0          5597   \n",
      "38    0.27  -0.210000     -44.680850  10585.0          9955   \n",
      "39    0.23  -0.150000     -42.857140   8761.0          6483   \n",
      "40    0.17  -0.070000     -27.999996   4773.0         44236   \n",
      "41    0.15  -0.070000     -36.842106   6964.0          3724   \n",
      "42    0.13  -0.020000     -15.384613   1705.0          6797   \n",
      "43    0.11  -0.030000     -30.000002   2834.0          4887   \n",
      "44    0.09  -0.010000     -12.499998   2922.0         12325   \n",
      "45    0.07  -0.010000     -14.285716    355.0           795   \n",
      "46    0.06  -0.010000     -25.000000   1396.0          2319   \n",
      "47    0.05   0.000000       0.000000    399.0          1385   \n",
      "48    0.05   0.000000       0.000000    345.0          1381   \n",
      "49    0.03  -0.010000     -33.333336    125.0           803   \n",
      "50    0.03   0.010000      50.000000    244.0           737   \n",
      "51    0.04   0.000000       0.000000    123.0           455   \n",
      "52    0.04  -0.010000     -50.000000     26.0           671   \n",
      "53    0.04   0.000000       0.000000    114.0           822   \n",
      "54    0.02   0.000000       0.000000     66.0          1887   \n",
      "55    0.04   0.000000       0.000000    235.0           546   \n",
      "56    0.03   0.000000       0.000000    291.0           581   \n",
      "57    0.03   0.000000       0.000000    100.0           527   \n",
      "58    0.03   0.000000       0.000000     52.0           314   \n",
      "59    0.01   0.000000       0.000000    111.0           188   \n",
      "60    0.01   0.000000       0.000000      4.0           177   \n",
      "61    0.02   0.000000       0.000000     31.0            99   \n",
      "62    0.02   0.000000       0.000000      1.0            82   \n",
      "63    0.02   0.000000       0.000000      2.0            53   \n",
      "64    0.02   0.000000       0.000000      6.0           276   \n",
      "65    0.02   0.000000       0.000000      5.0           148   \n",
      "66    0.02   0.000000       0.000000      NaN           100   \n",
      "67    0.01   0.000000       0.000000      1.0             9   \n",
      "68    0.02   0.000000       0.000000      1.0             1   \n",
      "69    0.01   0.000000       0.000000      2.0            24   \n",
      "70    0.01   0.000000       0.000000      NaN            13   \n",
      "71    0.01   0.000000       0.000000      NaN            10   \n",
      "72    0.02   0.000000       0.000000      NaN             5   \n",
      "73    0.01   0.000000       0.000000      1.0            43   \n",
      "74    0.01   0.000000       0.000000      NaN             2   \n",
      "75    0.01   0.000000       0.000000     15.0            40   \n",
      "76    0.01   0.000000       0.000000      2.0             5   \n",
      "\n",
      "    impliedVolatility  inTheMoney contractSize currency  \\\n",
      "0            3.296877        True      REGULAR      USD   \n",
      "1            2.820315        True      REGULAR      USD   \n",
      "2            2.560550        True      REGULAR      USD   \n",
      "3            2.322270        True      REGULAR      USD   \n",
      "4            2.216801        True      REGULAR      USD   \n",
      "5            2.163091        True      REGULAR      USD   \n",
      "6            1.677736        True      REGULAR      USD   \n",
      "7            1.589846        True      REGULAR      USD   \n",
      "8            1.304691        True      REGULAR      USD   \n",
      "9            1.262699        True      REGULAR      USD   \n",
      "10           1.126957        True      REGULAR      USD   \n",
      "11           1.087895        True      REGULAR      USD   \n",
      "12           0.986328        True      REGULAR      USD   \n",
      "13           0.940430        True      REGULAR      USD   \n",
      "14           0.958497        True      REGULAR      USD   \n",
      "15           0.899903        True      REGULAR      USD   \n",
      "16           0.873781        True      REGULAR      USD   \n",
      "17           0.860353        True      REGULAR      USD   \n",
      "18           0.811769        True      REGULAR      USD   \n",
      "19           0.814333        True      REGULAR      USD   \n",
      "20           0.782351        True      REGULAR      USD   \n",
      "21           0.771365        True      REGULAR      USD   \n",
      "22           0.742800        True      REGULAR      USD   \n",
      "23           0.729007        True      REGULAR      USD   \n",
      "24           0.710696       False      REGULAR      USD   \n",
      "25           0.697635       False      REGULAR      USD   \n",
      "26           0.685306       False      REGULAR      USD   \n",
      "27           0.677738       False      REGULAR      USD   \n",
      "28           0.673831       False      REGULAR      USD   \n",
      "29           0.668460       False      REGULAR      USD   \n",
      "30           0.668949       False      REGULAR      USD   \n",
      "31           0.664310       False      REGULAR      USD   \n",
      "32           0.664310       False      REGULAR      USD   \n",
      "33           0.661624       False      REGULAR      USD   \n",
      "34           0.663822       False      REGULAR      USD   \n",
      "35           0.665042       False      REGULAR      USD   \n",
      "36           0.672367       False      REGULAR      USD   \n",
      "37           0.681644       False      REGULAR      USD   \n",
      "38           0.692386       False      REGULAR      USD   \n",
      "39           0.709964       False      REGULAR      USD   \n",
      "40           0.728518       False      REGULAR      USD   \n",
      "41           0.751956       False      REGULAR      USD   \n",
      "42           0.776369       False      REGULAR      USD   \n",
      "43           0.791018       False      REGULAR      USD   \n",
      "44           0.816408       False      REGULAR      USD   \n",
      "45           0.816408       False      REGULAR      USD   \n",
      "46           0.832033       False      REGULAR      USD   \n",
      "47           0.855470       False      REGULAR      USD   \n",
      "48           0.875001       False      REGULAR      USD   \n",
      "49           0.878907       False      REGULAR      USD   \n",
      "50           0.890626       False      REGULAR      USD   \n",
      "51           0.937501       False      REGULAR      USD   \n",
      "52           0.968750       False      REGULAR      USD   \n",
      "53           0.992188       False      REGULAR      USD   \n",
      "54           0.976563       False      REGULAR      USD   \n",
      "55           1.054692       False      REGULAR      USD   \n",
      "56           1.078130       False      REGULAR      USD   \n",
      "57           1.109379       False      REGULAR      USD   \n",
      "58           1.132817       False      REGULAR      USD   \n",
      "59           1.093755       False      REGULAR      USD   \n",
      "60           1.125004       False      REGULAR      USD   \n",
      "61           1.234379       False      REGULAR      USD   \n",
      "62           1.281254       False      REGULAR      USD   \n",
      "63           1.312503       False      REGULAR      USD   \n",
      "64           1.359378       False      REGULAR      USD   \n",
      "65           1.406253       False      REGULAR      USD   \n",
      "66           1.437503       False      REGULAR      USD   \n",
      "67           1.406253       False      REGULAR      USD   \n",
      "68           1.515627       False      REGULAR      USD   \n",
      "69           1.468753       False      REGULAR      USD   \n",
      "70           1.500002       False      REGULAR      USD   \n",
      "71           1.562502       False      REGULAR      USD   \n",
      "72           1.656252       False      REGULAR      USD   \n",
      "73           1.625002       False      REGULAR      USD   \n",
      "74           1.625002       False      REGULAR      USD   \n",
      "75           1.687502       False      REGULAR      USD   \n",
      "76           1.687502       False      REGULAR      USD   \n",
      "\n",
      "    Black Scholes Estimate  \n",
      "0             1.762708e+02  \n",
      "1             1.663648e+02  \n",
      "2             1.564589e+02  \n",
      "3             1.465530e+02  \n",
      "4             1.366471e+02  \n",
      "5             1.267411e+02  \n",
      "6             1.168352e+02  \n",
      "7             1.069293e+02  \n",
      "8             9.702335e+01  \n",
      "9             8.711743e+01  \n",
      "10            7.721153e+01  \n",
      "11            7.225865e+01  \n",
      "12            6.730602e+01  \n",
      "13            6.235418e+01  \n",
      "14            5.740462e+01  \n",
      "15            5.246088e+01  \n",
      "16            4.753051e+01  \n",
      "17            4.262783e+01  \n",
      "18            3.777728e+01  \n",
      "19            3.301642e+01  \n",
      "20            2.839725e+01  \n",
      "21            2.398464e+01  \n",
      "22            1.985111e+01  \n",
      "23            1.606856e+01  \n",
      "24            1.269846e+01  \n",
      "25            9.782865e+00  \n",
      "26            7.338565e+00  \n",
      "27            6.291026e+00  \n",
      "28            5.355591e+00  \n",
      "29            4.527320e+00  \n",
      "30            3.800165e+00  \n",
      "31            3.167215e+00  \n",
      "32            2.620954e+00  \n",
      "33            2.153507e+00  \n",
      "34            1.756882e+00  \n",
      "35            1.144733e+00  \n",
      "36            7.252165e-01  \n",
      "37            4.469062e-01  \n",
      "38            2.680277e-01  \n",
      "39            1.565392e-01  \n",
      "40            8.909207e-02  \n",
      "41            4.944697e-02  \n",
      "42            2.678243e-02  \n",
      "43            1.416783e-02  \n",
      "44            7.325497e-03  \n",
      "45            3.705007e-03  \n",
      "46            1.834405e-03  \n",
      "47            8.897909e-04  \n",
      "48            4.231493e-04  \n",
      "49            1.974386e-04  \n",
      "50            9.045145e-05  \n",
      "51            4.071441e-05  \n",
      "52            1.801877e-05  \n",
      "53            7.845721e-06  \n",
      "54            3.363169e-06  \n",
      "55            5.911094e-07  \n",
      "56            9.829215e-08  \n",
      "57            3.931119e-08  \n",
      "58            1.553089e-08  \n",
      "59            2.341312e-09  \n",
      "60            3.380170e-10  \n",
      "61            4.689698e-11  \n",
      "62            6.273027e-12  \n",
      "63            8.113916e-13  \n",
      "64            1.017663e-13  \n",
      "65            1.240816e-14  \n",
      "66            1.474245e-15  \n",
      "67            1.710581e-16  \n",
      "68            1.942284e-17  \n",
      "69            2.162205e-18  \n",
      "70            2.364047e-19  \n",
      "71            2.542712e-20  \n",
      "72            2.694485e-21  \n",
      "73            2.817098e-22  \n",
      "74            2.909665e-23  \n",
      "75            2.972532e-24  \n",
      "76            3.007075e-25  \n"
     ]
    }
   ],
   "source": [
    "# Open list for BS Estimates\n",
    "bs_estimates = []\n",
    "\n",
    "for i in range(0,77):\n",
    "    c_value = black_scholes(S = 275.33,\n",
    "                            r = 0.69, \n",
    "                            K = r['strike'][i], \n",
    "                            T = (datetime.datetime.strptime('2022-10-07', \"%Y-%m-%d\") - \n",
    "                                 datetime.datetime.now()).days / 365, \n",
    "                            sigma = sigma)\n",
    "    bs_estimates.append(c_value)\n",
    "\n",
    "# Format and merge Actual with BS Estimated dataframe\n",
    "\n",
    "bs_list = pd.DataFrame(data = bs_estimates, index = r.index)\n",
    "bs_list['Black Scholes Estimate'] = bs_list[0]\n",
    "del bs_list[0]\n",
    "df_estimate = r.merge(bs_list, right_index = True, left_index = True)\n",
    "\n",
    "pd.set_option('display.max_rows', None)\n",
    "df_estimate.dropna()\n",
    "\n",
    "print(df_estimate)\n",
    "        "
   ]
  },
  {
   "cell_type": "code",
   "execution_count": 12,
   "id": "158dfae9-8da7-4346-ac0f-c664fd572e00",
   "metadata": {},
   "outputs": [
    {
     "data": {
      "text/plain": [
       "count    7.700000e+01\n",
       "mean     4.805986e+22\n",
       "std      3.803635e+23\n",
       "min     -3.937893e+01\n",
       "25%     -2.235119e+01\n",
       "50%      7.358534e-01\n",
       "75%      7.631404e+07\n",
       "max      3.325491e+24\n",
       "Name: Black Scholes Estimate Error, dtype: float64"
      ]
     },
     "execution_count": 12,
     "metadata": {},
     "output_type": "execute_result"
    }
   ],
   "source": [
    "# Compare estimate with actual by calculating error\n",
    "estimate = df_estimate['Black Scholes Estimate']\n",
    "df_estimate['Black Scholes Estimate Error'] = ((askprice - estimate)/estimate)*100\n",
    "estimate_error = df_estimate['Black Scholes Estimate Error']\n",
    "df_estimate['Black Scholes Estimate Error'].describe()"
   ]
  },
  {
   "cell_type": "code",
   "execution_count": 13,
   "id": "14b092a4-5e9e-420d-8e3a-a09639541b5d",
   "metadata": {},
   "outputs": [
    {
     "name": "stderr",
     "output_type": "stream",
     "text": [
      "/Users/ayush/opt/anaconda3/lib/python3.9/site-packages/seaborn/distributions.py:2619: FutureWarning: `distplot` is a deprecated function and will be removed in a future version. Please adapt your code to use either `displot` (a figure-level function with similar flexibility) or `histplot` (an axes-level function for histograms).\n",
      "  warnings.warn(msg, FutureWarning)\n"
     ]
    },
    {
     "data": {
      "text/plain": [
       "count    7.700000e+01\n",
       "mean     4.805986e+22\n",
       "std      3.803635e+23\n",
       "min     -3.937893e+01\n",
       "25%     -2.235119e+01\n",
       "50%      7.358534e-01\n",
       "75%      7.631404e+07\n",
       "max      3.325491e+24\n",
       "Name: Black Scholes Estimate Error, dtype: float64"
      ]
     },
     "execution_count": 13,
     "metadata": {},
     "output_type": "execute_result"
    },
    {
     "data": {
      "image/png": "[encoded data removed]",
      "text/plain": [
       "<Figure size 612x612 with 1 Axes>"
      ]
     },
     "metadata": {
      "needs_background": "light"
     },
     "output_type": "display_data"
    }
   ],
   "source": [
    "# Throw the Error on a graph\n",
    "import seaborn as sns\n",
    "from matplotlib import pyplot as plt\n",
    "\n",
    "ax = plt.subplots(figsize=(8.5,8.5)),\n",
    "ax = sns.distplot(estimate_error, label = \"Estimate Error x Density\",\n",
    "                  kde_kws={\"color\": \"k\", \"lw\": 3},\n",
    "                  hist_kws={\"histtype\": \"stepfilled\", \"linewidth\": 3,\n",
    "                            \"alpha\": 0.3, \"color\": \"r\"})\n",
    "ax.set_title('Black Scholes Estimate Error (TSLA)')\n",
    "#plt.ylim(None, .011)\n",
    "#plt.xlim(-200,200)\n",
    "\n",
    "estimate_error.describe()"
   ]
  },
  {
   "cell_type": "code",
   "execution_count": 14,
   "id": "c584b866-afef-4eea-9ab4-88581f88d514",
   "metadata": {
    "tags": []
   },
   "outputs": [
    {
     "data": {
      "text/plain": [
       "(0.0, 163.0)"
      ]
     },
     "execution_count": 14,
     "metadata": {},
     "output_type": "execute_result"
    },
    {
     "data": {
      "image/png": "[encoded data removed]",
      "text/plain": [
       "<Figure size 720x720 with 1 Axes>"
      ]
     },
     "metadata": {
      "needs_background": "light"
     },
     "output_type": "display_data"
    }
   ],
   "source": [
    "ax = plt.subplots(figsize=(10,10))\n",
    "plt.plot(estimate, color=\"b\")\n",
    "plt.plot(askprice, color=\"r\")\n",
    "plt.ylim(0, None) # Or similarly \"plt.ylim(0)\"\n",
    "plt.xlim(0, 163) # Or similarly \"plt.ylim(0)\""
   ]
  },
  {
   "cell_type": "code",
   "execution_count": 83,
   "id": "18ea891c-2ede-4c84-86ea-f753d70eef99",
   "metadata": {},
   "outputs": [
    {
     "ename": "KeyError",
     "evalue": "'Binomial Estimate'",
     "output_type": "error",
     "traceback": [
      "\u001b[0;31m---------------------------------------------------------------------------\u001b[0m",
      "\u001b[0;31mKeyError\u001b[0m                                  Traceback (most recent call last)",
      "\u001b[0;32m/var/folders/ch/x47y97692mj61gb3h3t9zs2w0000gn/T/ipykernel_33740/1423368607.py\u001b[0m in \u001b[0;36m<module>\u001b[0;34m\u001b[0m\n\u001b[1;32m     13\u001b[0m \u001b[0;34m\u001b[0m\u001b[0m\n\u001b[1;32m     14\u001b[0m \u001b[0;34m\u001b[0m\u001b[0m\n\u001b[0;32m---> 15\u001b[0;31m \u001b[0mdf\u001b[0m \u001b[0;34m=\u001b[0m \u001b[0mdf_estimate\u001b[0m\u001b[0;34m.\u001b[0m\u001b[0msort_values\u001b[0m\u001b[0;34m(\u001b[0m\u001b[0mby\u001b[0m\u001b[0;34m=\u001b[0m \u001b[0;34m'Binomial Estimate'\u001b[0m\u001b[0;34m,\u001b[0m \u001b[0mascending\u001b[0m \u001b[0;34m=\u001b[0m \u001b[0;32mFalse\u001b[0m\u001b[0;34m)\u001b[0m\u001b[0;34m\u001b[0m\u001b[0;34m\u001b[0m\u001b[0m\n\u001b[0m\u001b[1;32m     16\u001b[0m \u001b[0;34m\u001b[0m\u001b[0m\n\u001b[1;32m     17\u001b[0m \u001b[0mfig\u001b[0m \u001b[0;34m=\u001b[0m \u001b[0mpx\u001b[0m\u001b[0;34m.\u001b[0m\u001b[0mline\u001b[0m\u001b[0;34m(\u001b[0m\u001b[0mdf\u001b[0m\u001b[0;34m,\u001b[0m \u001b[0mx\u001b[0m \u001b[0;34m=\u001b[0m \u001b[0mdates\u001b[0m\u001b[0;34m,\u001b[0m \u001b[0my\u001b[0m \u001b[0;34m=\u001b[0m \u001b[0mestimate\u001b[0m\u001b[0;34m,\u001b[0m \u001b[0mrange_x\u001b[0m\u001b[0;34m=\u001b[0m\u001b[0;34m[\u001b[0m\u001b[0;34m'2021-08-10'\u001b[0m\u001b[0;34m,\u001b[0m\u001b[0;34m'2022-08-10'\u001b[0m\u001b[0;34m]\u001b[0m\u001b[0;34m,\u001b[0m \u001b[0mrange_y\u001b[0m\u001b[0;34m=\u001b[0m\u001b[0;34m[\u001b[0m\u001b[0;32mNone\u001b[0m\u001b[0;34m,\u001b[0m \u001b[0;36m0\u001b[0m\u001b[0;34m]\u001b[0m\u001b[0;34m)\u001b[0m\u001b[0;34m\u001b[0m\u001b[0;34m\u001b[0m\u001b[0m\n",
      "\u001b[0;32m~/opt/anaconda3/lib/python3.9/site-packages/pandas/util/_decorators.py\u001b[0m in \u001b[0;36mwrapper\u001b[0;34m(*args, **kwargs)\u001b[0m\n\u001b[1;32m    309\u001b[0m                     \u001b[0mstacklevel\u001b[0m\u001b[0;34m=\u001b[0m\u001b[0mstacklevel\u001b[0m\u001b[0;34m,\u001b[0m\u001b[0;34m\u001b[0m\u001b[0;34m\u001b[0m\u001b[0m\n\u001b[1;32m    310\u001b[0m                 )\n\u001b[0;32m--> 311\u001b[0;31m             \u001b[0;32mreturn\u001b[0m \u001b[0mfunc\u001b[0m\u001b[0;34m(\u001b[0m\u001b[0;34m*\u001b[0m\u001b[0margs\u001b[0m\u001b[0;34m,\u001b[0m \u001b[0;34m**\u001b[0m\u001b[0mkwargs\u001b[0m\u001b[0;34m)\u001b[0m\u001b[0;34m\u001b[0m\u001b[0;34m\u001b[0m\u001b[0m\n\u001b[0m\u001b[1;32m    312\u001b[0m \u001b[0;34m\u001b[0m\u001b[0m\n\u001b[1;32m    313\u001b[0m         \u001b[0;32mreturn\u001b[0m \u001b[0mwrapper\u001b[0m\u001b[0;34m\u001b[0m\u001b[0;34m\u001b[0m\u001b[0m\n",
      "\u001b[0;32m~/opt/anaconda3/lib/python3.9/site-packages/pandas/core/frame.py\u001b[0m in \u001b[0;36msort_values\u001b[0;34m(self, by, axis, ascending, inplace, kind, na_position, ignore_index, key)\u001b[0m\n\u001b[1;32m   6257\u001b[0m \u001b[0;34m\u001b[0m\u001b[0m\n\u001b[1;32m   6258\u001b[0m             \u001b[0mby\u001b[0m \u001b[0;34m=\u001b[0m \u001b[0mby\u001b[0m\u001b[0;34m[\u001b[0m\u001b[0;36m0\u001b[0m\u001b[0;34m]\u001b[0m\u001b[0;34m\u001b[0m\u001b[0;34m\u001b[0m\u001b[0m\n\u001b[0;32m-> 6259\u001b[0;31m             \u001b[0mk\u001b[0m \u001b[0;34m=\u001b[0m \u001b[0mself\u001b[0m\u001b[0;34m.\u001b[0m\u001b[0m_get_label_or_level_values\u001b[0m\u001b[0;34m(\u001b[0m\u001b[0mby\u001b[0m\u001b[0;34m,\u001b[0m \u001b[0maxis\u001b[0m\u001b[0;34m=\u001b[0m\u001b[0maxis\u001b[0m\u001b[0;34m)\u001b[0m\u001b[0;34m\u001b[0m\u001b[0;34m\u001b[0m\u001b[0m\n\u001b[0m\u001b[1;32m   6260\u001b[0m \u001b[0;34m\u001b[0m\u001b[0m\n\u001b[1;32m   6261\u001b[0m             \u001b[0;31m# need to rewrap column in Series to apply key function\u001b[0m\u001b[0;34m\u001b[0m\u001b[0;34m\u001b[0m\u001b[0m\n",
      "\u001b[0;32m~/opt/anaconda3/lib/python3.9/site-packages/pandas/core/generic.py\u001b[0m in \u001b[0;36m_get_label_or_level_values\u001b[0;34m(self, key, axis)\u001b[0m\n\u001b[1;32m   1777\u001b[0m             \u001b[0mvalues\u001b[0m \u001b[0;34m=\u001b[0m \u001b[0mself\u001b[0m\u001b[0;34m.\u001b[0m\u001b[0maxes\u001b[0m\u001b[0;34m[\u001b[0m\u001b[0maxis\u001b[0m\u001b[0;34m]\u001b[0m\u001b[0;34m.\u001b[0m\u001b[0mget_level_values\u001b[0m\u001b[0;34m(\u001b[0m\u001b[0mkey\u001b[0m\u001b[0;34m)\u001b[0m\u001b[0;34m.\u001b[0m\u001b[0m_values\u001b[0m\u001b[0;34m\u001b[0m\u001b[0;34m\u001b[0m\u001b[0m\n\u001b[1;32m   1778\u001b[0m         \u001b[0;32melse\u001b[0m\u001b[0;34m:\u001b[0m\u001b[0;34m\u001b[0m\u001b[0;34m\u001b[0m\u001b[0m\n\u001b[0;32m-> 1779\u001b[0;31m             \u001b[0;32mraise\u001b[0m \u001b[0mKeyError\u001b[0m\u001b[0;34m(\u001b[0m\u001b[0mkey\u001b[0m\u001b[0;34m)\u001b[0m\u001b[0;34m\u001b[0m\u001b[0;34m\u001b[0m\u001b[0m\n\u001b[0m\u001b[1;32m   1780\u001b[0m \u001b[0;34m\u001b[0m\u001b[0m\n\u001b[1;32m   1781\u001b[0m         \u001b[0;31m# Check for duplicates\u001b[0m\u001b[0;34m\u001b[0m\u001b[0;34m\u001b[0m\u001b[0m\n",
      "\u001b[0;31mKeyError\u001b[0m: 'Binomial Estimate'"
     ]
    }
   ],
   "source": [
    "\n",
    "import plotly.express as px\n",
    "import plotly.graph_objects as go\n",
    "\n",
    "#fig = go.Figure()\n",
    "#fig.add_trace(go.Scatter(x= df_estimate[\"lastTradeDate\"], y= df_estimate[\"Estimate\"], name=\"Estimate\", mode=\"lines\"), \n",
    "#             range_x=['2021-08-10','2022-08-10'])\n",
    "#fig.add_trace(go.Scatter(x=df_estimate[\"lastTradeDate\"], y= askprice, name=\"askprice\", mode=\"lines\"))\n",
    "#fig.update_layout(\n",
    " #   title=\"ICICI BANK stock prices\", xaxis_title=\"Date\", yaxis_title=\"Close\"\n",
    "#)\n",
    "#fig.show()\n",
    "\n",
    "\n",
    "\n",
    "df = df_estimate.sort_values(by= 'Binomial Estimate', ascending = False)\n",
    "\n",
    "fig = px.line(df, x = dates, y = estimate, range_x=['2021-08-10','2022-08-10'], range_y=[None, 0])\n",
    "fig.update_layout(xaxis_range=[0,None], xaxis_title = \"Date\")\n",
    "fig.show()\n",
    "\n",
    "#fig1 = px.line(x = date, y = estimate)\n",
    "#fig1.show()\n",
    "\n",
    "\n"
   ]
  },
  {
   "cell_type": "code",
   "execution_count": 84,
   "id": "b7b1d645-e4a6-4a69-b826-0d52d8f8847c",
   "metadata": {},
   "outputs": [
    {
     "data": {
      "application/vnd.plotly.v1+json": {
       "config": {
        "plotlyServerURL": "https://plot.ly"
       },
       "data": [
        {
         "hovertemplate": "lastTradeDate=%{x}<br>Black Scholes Estimate=%{y}<extra></extra>",
         "legendgroup": "",
         "line": {
          "color": "#636efa",
          "dash": "solid"
         },
         "marker": {
          "symbol": "circle"
         },
         "mode": "lines",
         "name": "",
         "orientation": "v",
         "showlegend": false,
         "type": "scatter",
         "x": [
          "2022-08-11T18:35:27+00:00",
          "2022-08-15T17:23:08+00:00",
          "2022-08-15T19:39:51+00:00",
          "2022-08-17T18:36:13+00:00",
          "2022-08-22T17:26:47+00:00",
          "2022-08-22T17:31:00+00:00",
          "2022-08-22T18:21:15+00:00",
          "2022-08-22T19:40:14+00:00",
          "2022-08-23T13:54:02+00:00",
          "2022-08-23T16:07:07+00:00",
          "2022-08-23T18:54:58+00:00",
          "2022-08-24T14:14:36+00:00",
          "2022-08-24T14:45:41+00:00",
          "2022-08-24T14:46:49+00:00",
          "2022-08-24T16:02:21+00:00",
          "2022-08-24T16:35:29+00:00",
          "2022-08-24T16:44:24+00:00",
          "2022-08-24T16:48:00+00:00",
          "2022-08-24T16:51:02+00:00",
          "2022-08-24T17:35:44+00:00",
          "2022-08-24T17:40:46+00:00",
          "2022-08-24T17:41:29+00:00",
          "2022-08-24T18:10:54+00:00",
          "2022-08-24T18:10:55+00:00",
          "2022-08-24T18:34:10+00:00",
          "2022-08-24T18:44:42+00:00",
          "2022-08-24T18:45:07+00:00",
          "2022-08-24T18:48:04+00:00",
          "2022-08-24T18:54:06+00:00",
          "2022-08-24T18:54:48+00:00",
          "2022-08-24T18:56:31+00:00",
          "2022-08-24T18:57:53+00:00",
          "2022-08-24T19:02:56+00:00",
          "2022-08-24T19:06:35+00:00",
          "2022-08-24T19:07:24+00:00",
          "2022-08-24T19:14:00+00:00",
          "2022-08-24T19:16:26+00:00",
          "2022-08-24T19:18:08+00:00",
          "2022-08-24T19:22:50+00:00",
          "2022-08-24T19:29:52+00:00",
          "2022-08-24T19:29:52+00:00",
          "2022-08-24T19:30:33+00:00",
          "2022-08-24T19:39:13+00:00",
          "2022-08-24T19:40:29+00:00",
          "2022-08-24T19:47:44+00:00",
          "2022-08-24T19:52:51+00:00",
          "2022-08-24T19:54:58+00:00",
          "2022-08-24T19:56:19+00:00",
          "2022-08-24T19:57:35+00:00",
          "2022-08-24T19:58:12+00:00",
          "2022-08-24T19:58:22+00:00",
          "2022-08-24T19:58:43+00:00",
          "2022-08-24T19:58:55+00:00",
          "2022-08-24T19:59:26+00:00",
          "2022-08-24T19:59:29+00:00",
          "2022-08-24T19:59:41+00:00",
          "2022-08-24T19:59:49+00:00",
          "2022-08-24T19:59:59+00:00",
          "2022-09-19T13:41:50+00:00",
          "2022-09-19T14:39:42+00:00",
          "2022-09-20T17:59:19+00:00",
          "2022-09-22T13:39:46+00:00",
          "2022-09-22T13:58:10+00:00",
          "2022-09-22T15:42:17+00:00",
          "2022-09-22T17:46:33+00:00",
          "2022-09-22T19:12:38+00:00",
          "2022-09-22T19:25:53+00:00",
          "2022-09-23T15:32:44+00:00",
          "2022-09-23T16:22:15+00:00",
          "2022-09-23T18:17:08+00:00",
          "2022-09-23T19:03:09+00:00",
          "2022-09-23T19:36:18+00:00",
          "2022-09-26T13:30:00+00:00",
          "2022-09-26T13:31:20+00:00",
          "2022-09-26T14:00:25+00:00",
          "2022-09-26T17:25:27+00:00",
          "2022-09-27T14:59:32+00:00",
          "2022-09-27T17:01:00+00:00",
          "2022-09-27T19:35:30+00:00",
          "2022-09-27T19:48:55+00:00",
          "2022-09-28T14:33:44+00:00",
          "2022-09-28T16:25:23+00:00",
          "2022-09-28T17:27:49+00:00",
          "2022-09-28T18:11:50+00:00",
          "2022-09-28T18:40:45+00:00",
          "2022-09-28T18:50:22+00:00",
          "2022-09-28T18:53:36+00:00",
          "2022-09-28T18:58:28+00:00",
          "2022-09-28T19:39:12+00:00",
          "2022-09-29T14:22:23+00:00",
          "2022-09-29T14:41:18+00:00",
          "2022-09-29T14:52:02+00:00",
          "2022-09-29T16:52:13+00:00",
          "2022-09-29T17:16:47+00:00",
          "2022-09-29T17:24:29+00:00",
          "2022-09-29T17:27:52+00:00",
          "2022-09-29T17:30:48+00:00",
          "2022-09-29T17:36:56+00:00",
          "2022-09-29T17:51:45+00:00",
          "2022-09-29T18:05:56+00:00",
          "2022-09-29T18:09:52+00:00",
          "2022-09-29T18:14:49+00:00",
          "2022-09-29T18:22:30+00:00",
          "2022-09-29T18:27:23+00:00",
          "2022-09-29T18:34:20+00:00",
          "2022-09-29T19:08:47+00:00",
          "2022-09-29T19:09:18+00:00",
          "2022-09-29T19:09:27+00:00",
          "2022-09-29T19:10:51+00:00",
          "2022-09-29T19:12:11+00:00",
          "2022-09-29T19:13:35+00:00",
          "2022-09-29T19:16:13+00:00",
          "2022-09-29T19:17:02+00:00",
          "2022-09-29T19:24:02+00:00",
          "2022-09-29T19:24:18+00:00",
          "2022-09-29T19:36:01+00:00",
          "2022-09-29T19:36:02+00:00",
          "2022-09-29T19:37:45+00:00",
          "2022-09-29T19:44:07+00:00",
          "2022-09-29T19:47:27+00:00",
          "2022-09-29T19:49:42+00:00",
          "2022-09-29T19:49:48+00:00",
          "2022-09-29T19:54:30+00:00",
          "2022-09-29T19:54:30+00:00",
          "2022-09-29T19:55:17+00:00",
          "2022-09-29T19:55:45+00:00",
          "2022-09-29T19:56:16+00:00",
          "2022-09-29T19:56:38+00:00",
          "2022-09-29T19:57:28+00:00",
          "2022-09-29T19:57:52+00:00",
          "2022-09-29T19:58:09+00:00",
          "2022-09-29T19:58:32+00:00",
          "2022-09-29T19:58:36+00:00",
          "2022-09-29T19:58:53+00:00",
          "2022-09-29T19:58:59+00:00",
          "2022-09-29T19:59:04+00:00",
          "2022-09-29T19:59:05+00:00",
          "2022-09-29T19:59:09+00:00",
          "2022-09-29T19:59:12+00:00",
          "2022-09-29T19:59:12+00:00",
          "2022-09-29T19:59:32+00:00",
          "2022-09-29T19:59:37+00:00",
          "2022-09-29T19:59:37+00:00",
          "2022-09-29T19:59:38+00:00",
          "2022-09-29T19:59:38+00:00",
          "2022-09-29T19:59:39+00:00",
          "2022-09-29T19:59:40+00:00",
          "2022-09-29T19:59:46+00:00",
          "2022-09-29T19:59:52+00:00",
          "2022-09-29T19:59:52+00:00",
          "2022-09-29T19:59:54+00:00",
          "2022-09-29T19:59:56+00:00",
          "2022-09-29T19:59:57+00:00",
          "2022-09-29T19:59:57+00:00",
          "2022-09-29T19:59:57+00:00",
          "2022-09-29T19:59:57+00:00",
          "2022-09-29T19:59:57+00:00",
          "2022-09-29T19:59:58+00:00",
          "2022-09-29T19:59:59+00:00",
          "2022-09-29T19:59:59+00:00",
          "2022-09-29T19:59:59+00:00",
          "2022-09-29T19:59:59+00:00",
          "2022-09-29T19:59:59+00:00"
         ],
         "xaxis": "x",
         "y": [
          0,
          0,
          0,
          0,
          0,
          0,
          0,
          0,
          0,
          0,
          0,
          0,
          0,
          0,
          0,
          0,
          0,
          0,
          0,
          0,
          0,
          0,
          0,
          0,
          0,
          0,
          0,
          0,
          0,
          0,
          0,
          0,
          0,
          0,
          0,
          0,
          0,
          0,
          0,
          0,
          0,
          0,
          0,
          0,
          0,
          0,
          0,
          0,
          0,
          0,
          0,
          0,
          0,
          0,
          0,
          0,
          0,
          0,
          0,
          0,
          0,
          0,
          0,
          0,
          158.65999999999997,
          0,
          167,
          141.99999999999997,
          0,
          0,
          0,
          133.66,
          0,
          85.32999999999998,
          0,
          150.32999999999998,
          0,
          66.99999999999997,
          116.99999999999997,
          105.32999999999998,
          0,
          60.329999999999984,
          0,
          108.66,
          115.32999999999998,
          0,
          70.32999999999998,
          0,
          65.32999999999998,
          0,
          0,
          0,
          91.99999999999997,
          175.32999999999998,
          0,
          45.329999999999984,
          0,
          0,
          0,
          95.32999999999998,
          0,
          0,
          0,
          83.66,
          0,
          0,
          0,
          0,
          0,
          0,
          0,
          33.66,
          58.66,
          0,
          0,
          125.32999999999998,
          41.99999999999997,
          0,
          100.32999999999998,
          55.329999999999984,
          0,
          0,
          75.32999999999998,
          50.329999999999984,
          0,
          35.329999999999984,
          0,
          40.329999999999984,
          0,
          0,
          30.329999999999984,
          0,
          0,
          0,
          0,
          0,
          25.329999999999984,
          0,
          0,
          0,
          0,
          0,
          0,
          8.659999999999968,
          17,
          0,
          0,
          20.329999999999984,
          10.329999999999984,
          0,
          3.659999999999968,
          0,
          0,
          2,
          15.329999999999984,
          5.329999999999984,
          0,
          0,
          0,
          0,
          0.3299999999999841,
          0,
          0
         ],
         "yaxis": "y"
        }
       ],
       "layout": {
        "legend": {
         "tracegroupgap": 0
        },
        "margin": {
         "t": 60
        },
        "template": {
         "data": {
          "bar": [
           {
            "error_x": {
             "color": "#2a3f5f"
            },
            "error_y": {
             "color": "#2a3f5f"
            },
            "marker": {
             "line": {
              "color": "#E5ECF6",
              "width": 0.5
             },
             "pattern": {
              "fillmode": "overlay",
              "size": 10,
              "solidity": 0.2
             }
            },
            "type": "bar"
           }
          ],
          "barpolar": [
           {
            "marker": {
             "line": {
              "color": "#E5ECF6",
              "width": 0.5
             },
             "pattern": {
              "fillmode": "overlay",
              "size": 10,
              "solidity": 0.2
             }
            },
            "type": "barpolar"
           }
          ],
          "carpet": [
           {
            "aaxis": {
             "endlinecolor": "#2a3f5f",
             "gridcolor": "white",
             "linecolor": "white",
             "minorgridcolor": "white",
             "startlinecolor": "#2a3f5f"
            },
            "baxis": {
             "endlinecolor": "#2a3f5f",
             "gridcolor": "white",
             "linecolor": "white",
             "minorgridcolor": "white",
             "startlinecolor": "#2a3f5f"
            },
            "type": "carpet"
           }
          ],
          "choropleth": [
           {
            "colorbar": {
             "outlinewidth": 0,
             "ticks": ""
            },
            "type": "choropleth"
           }
          ],
          "contour": [
           {
            "colorbar": {
             "outlinewidth": 0,
             "ticks": ""
            },
            "colorscale": [
             [
              0,
              "#0d0887"
             ],
             [
              0.1111111111111111,
              "#46039f"
             ],
             [
              0.2222222222222222,
              "#7201a8"
             ],
             [
              0.3333333333333333,
              "#9c179e"
             ],
             [
              0.4444444444444444,
              "#bd3786"
             ],
             [
              0.5555555555555556,
              "#d8576b"
             ],
             [
              0.6666666666666666,
              "#ed7953"
             ],
             [
              0.7777777777777778,
              "#fb9f3a"
             ],
             [
              0.8888888888888888,
              "#fdca26"
             ],
             [
              1,
              "#f0f921"
             ]
            ],
            "type": "contour"
           }
          ],
          "contourcarpet": [
           {
            "colorbar": {
             "outlinewidth": 0,
             "ticks": ""
            },
            "type": "contourcarpet"
           }
          ],
          "heatmap": [
           {
            "colorbar": {
             "outlinewidth": 0,
             "ticks": ""
            },
            "colorscale": [
             [
              0,
              "#0d0887"
             ],
             [
              0.1111111111111111,
              "#46039f"
             ],
             [
              0.2222222222222222,
              "#7201a8"
             ],
             [
              0.3333333333333333,
              "#9c179e"
             ],
             [
              0.4444444444444444,
              "#bd3786"
             ],
             [
              0.5555555555555556,
              "#d8576b"
             ],
             [
              0.6666666666666666,
              "#ed7953"
             ],
             [
              0.7777777777777778,
              "#fb9f3a"
             ],
             [
              0.8888888888888888,
              "#fdca26"
             ],
             [
              1,
              "#f0f921"
             ]
            ],
            "type": "heatmap"
           }
          ],
          "heatmapgl": [
           {
            "colorbar": {
             "outlinewidth": 0,
             "ticks": ""
            },
            "colorscale": [
             [
              0,
              "#0d0887"
             ],
             [
              0.1111111111111111,
              "#46039f"
             ],
             [
              0.2222222222222222,
              "#7201a8"
             ],
             [
              0.3333333333333333,
              "#9c179e"
             ],
             [
              0.4444444444444444,
              "#bd3786"
             ],
             [
              0.5555555555555556,
              "#d8576b"
             ],
             [
              0.6666666666666666,
              "#ed7953"
             ],
             [
              0.7777777777777778,
              "#fb9f3a"
             ],
             [
              0.8888888888888888,
              "#fdca26"
             ],
             [
              1,
              "#f0f921"
             ]
            ],
            "type": "heatmapgl"
           }
          ],
          "histogram": [
           {
            "marker": {
             "pattern": {
              "fillmode": "overlay",
              "size": 10,
              "solidity": 0.2
             }
            },
            "type": "histogram"
           }
          ],
          "histogram2d": [
           {
            "colorbar": {
             "outlinewidth": 0,
             "ticks": ""
            },
            "colorscale": [
             [
              0,
              "#0d0887"
             ],
             [
              0.1111111111111111,
              "#46039f"
             ],
             [
              0.2222222222222222,
              "#7201a8"
             ],
             [
              0.3333333333333333,
              "#9c179e"
             ],
             [
              0.4444444444444444,
              "#bd3786"
             ],
             [
              0.5555555555555556,
              "#d8576b"
             ],
             [
              0.6666666666666666,
              "#ed7953"
             ],
             [
              0.7777777777777778,
              "#fb9f3a"
             ],
             [
              0.8888888888888888,
              "#fdca26"
             ],
             [
              1,
              "#f0f921"
             ]
            ],
            "type": "histogram2d"
           }
          ],
          "histogram2dcontour": [
           {
            "colorbar": {
             "outlinewidth": 0,
             "ticks": ""
            },
            "colorscale": [
             [
              0,
              "#0d0887"
             ],
             [
              0.1111111111111111,
              "#46039f"
             ],
             [
              0.2222222222222222,
              "#7201a8"
             ],
             [
              0.3333333333333333,
              "#9c179e"
             ],
             [
              0.4444444444444444,
              "#bd3786"
             ],
             [
              0.5555555555555556,
              "#d8576b"
             ],
             [
              0.6666666666666666,
              "#ed7953"
             ],
             [
              0.7777777777777778,
              "#fb9f3a"
             ],
             [
              0.8888888888888888,
              "#fdca26"
             ],
             [
              1,
              "#f0f921"
             ]
            ],
            "type": "histogram2dcontour"
           }
          ],
          "mesh3d": [
           {
            "colorbar": {
             "outlinewidth": 0,
             "ticks": ""
            },
            "type": "mesh3d"
           }
          ],
          "parcoords": [
           {
            "line": {
             "colorbar": {
              "outlinewidth": 0,
              "ticks": ""
             }
            },
            "type": "parcoords"
           }
          ],
          "pie": [
           {
            "automargin": true,
            "type": "pie"
           }
          ],
          "scatter": [
           {
            "marker": {
             "colorbar": {
              "outlinewidth": 0,
              "ticks": ""
             }
            },
            "type": "scatter"
           }
          ],
          "scatter3d": [
           {
            "line": {
             "colorbar": {
              "outlinewidth": 0,
              "ticks": ""
             }
            },
            "marker": {
             "colorbar": {
              "outlinewidth": 0,
              "ticks": ""
             }
            },
            "type": "scatter3d"
           }
          ],
          "scattercarpet": [
           {
            "marker": {
             "colorbar": {
              "outlinewidth": 0,
              "ticks": ""
             }
            },
            "type": "scattercarpet"
           }
          ],
          "scattergeo": [
           {
            "marker": {
             "colorbar": {
              "outlinewidth": 0,
              "ticks": ""
             }
            },
            "type": "scattergeo"
           }
          ],
          "scattergl": [
           {
            "marker": {
             "colorbar": {
              "outlinewidth": 0,
              "ticks": ""
             }
            },
            "type": "scattergl"
           }
          ],
          "scattermapbox": [
           {
            "marker": {
             "colorbar": {
              "outlinewidth": 0,
              "ticks": ""
             }
            },
            "type": "scattermapbox"
           }
          ],
          "scatterpolar": [
           {
            "marker": {
             "colorbar": {
              "outlinewidth": 0,
              "ticks": ""
             }
            },
            "type": "scatterpolar"
           }
          ],
          "scatterpolargl": [
           {
            "marker": {
             "colorbar": {
              "outlinewidth": 0,
              "ticks": ""
             }
            },
            "type": "scatterpolargl"
           }
          ],
          "scatterternary": [
           {
            "marker": {
             "colorbar": {
              "outlinewidth": 0,
              "ticks": ""
             }
            },
            "type": "scatterternary"
           }
          ],
          "surface": [
           {
            "colorbar": {
             "outlinewidth": 0,
             "ticks": ""
            },
            "colorscale": [
             [
              0,
              "#0d0887"
             ],
             [
              0.1111111111111111,
              "#46039f"
             ],
             [
              0.2222222222222222,
              "#7201a8"
             ],
             [
              0.3333333333333333,
              "#9c179e"
             ],
             [
              0.4444444444444444,
              "#bd3786"
             ],
             [
              0.5555555555555556,
              "#d8576b"
             ],
             [
              0.6666666666666666,
              "#ed7953"
             ],
             [
              0.7777777777777778,
              "#fb9f3a"
             ],
             [
              0.8888888888888888,
              "#fdca26"
             ],
             [
              1,
              "#f0f921"
             ]
            ],
            "type": "surface"
           }
          ],
          "table": [
           {
            "cells": {
             "fill": {
              "color": "#EBF0F8"
             },
             "line": {
              "color": "white"
             }
            },
            "header": {
             "fill": {
              "color": "#C8D4E3"
             },
             "line": {
              "color": "white"
             }
            },
            "type": "table"
           }
          ]
         },
         "layout": {
          "annotationdefaults": {
           "arrowcolor": "#2a3f5f",
           "arrowhead": 0,
           "arrowwidth": 1
          },
          "autotypenumbers": "strict",
          "coloraxis": {
           "colorbar": {
            "outlinewidth": 0,
            "ticks": ""
           }
          },
          "colorscale": {
           "diverging": [
            [
             0,
             "#8e0152"
            ],
            [
             0.1,
             "#c51b7d"
            ],
            [
             0.2,
             "#de77ae"
            ],
            [
             0.3,
             "#f1b6da"
            ],
            [
             0.4,
             "#fde0ef"
            ],
            [
             0.5,
             "#f7f7f7"
            ],
            [
             0.6,
             "#e6f5d0"
            ],
            [
             0.7,
             "#b8e186"
            ],
            [
             0.8,
             "#7fbc41"
            ],
            [
             0.9,
             "#4d9221"
            ],
            [
             1,
             "#276419"
            ]
           ],
           "sequential": [
            [
             0,
             "#0d0887"
            ],
            [
             0.1111111111111111,
             "#46039f"
            ],
            [
             0.2222222222222222,
             "#7201a8"
            ],
            [
             0.3333333333333333,
             "#9c179e"
            ],
            [
             0.4444444444444444,
             "#bd3786"
            ],
            [
             0.5555555555555556,
             "#d8576b"
            ],
            [
             0.6666666666666666,
             "#ed7953"
            ],
            [
             0.7777777777777778,
             "#fb9f3a"
            ],
            [
             0.8888888888888888,
             "#fdca26"
            ],
            [
             1,
             "#f0f921"
            ]
           ],
           "sequentialminus": [
            [
             0,
             "#0d0887"
            ],
            [
             0.1111111111111111,
             "#46039f"
            ],
            [
             0.2222222222222222,
             "#7201a8"
            ],
            [
             0.3333333333333333,
             "#9c179e"
            ],
            [
             0.4444444444444444,
             "#bd3786"
            ],
            [
             0.5555555555555556,
             "#d8576b"
            ],
            [
             0.6666666666666666,
             "#ed7953"
            ],
            [
             0.7777777777777778,
             "#fb9f3a"
            ],
            [
             0.8888888888888888,
             "#fdca26"
            ],
            [
             1,
             "#f0f921"
            ]
           ]
          },
          "colorway": [
           "#636efa",
           "#EF553B",
           "#00cc96",
           "#ab63fa",
           "#FFA15A",
           "#19d3f3",
           "#FF6692",
           "#B6E880",
           "#FF97FF",
           "#FECB52"
          ],
          "font": {
           "color": "#2a3f5f"
          },
          "geo": {
           "bgcolor": "white",
           "lakecolor": "white",
           "landcolor": "#E5ECF6",
           "showlakes": true,
           "showland": true,
           "subunitcolor": "white"
          },
          "hoverlabel": {
           "align": "left"
          },
          "hovermode": "closest",
          "mapbox": {
           "style": "light"
          },
          "paper_bgcolor": "white",
          "plot_bgcolor": "#E5ECF6",
          "polar": {
           "angularaxis": {
            "gridcolor": "white",
            "linecolor": "white",
            "ticks": ""
           },
           "bgcolor": "#E5ECF6",
           "radialaxis": {
            "gridcolor": "white",
            "linecolor": "white",
            "ticks": ""
           }
          },
          "scene": {
           "xaxis": {
            "backgroundcolor": "#E5ECF6",
            "gridcolor": "white",
            "gridwidth": 2,
            "linecolor": "white",
            "showbackground": true,
            "ticks": "",
            "zerolinecolor": "white"
           },
           "yaxis": {
            "backgroundcolor": "#E5ECF6",
            "gridcolor": "white",
            "gridwidth": 2,
            "linecolor": "white",
            "showbackground": true,
            "ticks": "",
            "zerolinecolor": "white"
           },
           "zaxis": {
            "backgroundcolor": "#E5ECF6",
            "gridcolor": "white",
            "gridwidth": 2,
            "linecolor": "white",
            "showbackground": true,
            "ticks": "",
            "zerolinecolor": "white"
           }
          },
          "shapedefaults": {
           "line": {
            "color": "#2a3f5f"
           }
          },
          "ternary": {
           "aaxis": {
            "gridcolor": "white",
            "linecolor": "white",
            "ticks": ""
           },
           "baxis": {
            "gridcolor": "white",
            "linecolor": "white",
            "ticks": ""
           },
           "bgcolor": "#E5ECF6",
           "caxis": {
            "gridcolor": "white",
            "linecolor": "white",
            "ticks": ""
           }
          },
          "title": {
           "x": 0.05
          },
          "xaxis": {
           "automargin": true,
           "gridcolor": "white",
           "linecolor": "white",
           "ticks": "",
           "title": {
            "standoff": 15
           },
           "zerolinecolor": "white",
           "zerolinewidth": 2
          },
          "yaxis": {
           "automargin": true,
           "gridcolor": "white",
           "linecolor": "white",
           "ticks": "",
           "title": {
            "standoff": 15
           },
           "zerolinecolor": "white",
           "zerolinewidth": 2
          }
         }
        },
        "xaxis": {
         "anchor": "y",
         "domain": [
          0,
          1
         ],
         "title": {
          "text": "lastTradeDate"
         }
        },
        "yaxis": {
         "anchor": "x",
         "domain": [
          0,
          1
         ],
         "title": {
          "text": "Black Scholes Estimate"
         }
        }
       }
      },
      "text/html": [
       "<div>                            <div id=\"2f239e6d-ee19-422a-8bb7-2874fedda3f9\" class=\"plotly-graph-div\" style=\"height:525px; width:100%;\"></div>            <script type=\"text/javascript\">                require([\"plotly\"], function(Plotly) {                    window.PLOTLYENV=window.PLOTLYENV || {};                                    if (document.getElementById(\"2f239e6d-ee19-422a-8bb7-2874fedda3f9\")) {                    Plotly.newPlot(                        \"2f239e6d-ee19-422a-8bb7-2874fedda3f9\",                        [{\"hovertemplate\":\"lastTradeDate=%{x}<br>Black Scholes Estimate=%{y}<extra></extra>\",\"legendgroup\":\"\",\"line\":{\"color\":\"#636efa\",\"dash\":\"solid\"},\"marker\":{\"symbol\":\"circle\"},\"mode\":\"lines\",\"name\":\"\",\"orientation\":\"v\",\"showlegend\":false,\"type\":\"scatter\",\"x\":[\"2022-08-11T18:35:27+00:00\",\"2022-08-15T17:23:08+00:00\",\"2022-08-15T19:39:51+00:00\",\"2022-08-17T18:36:13+00:00\",\"2022-08-22T17:26:47+00:00\",\"2022-08-22T17:31:00+00:00\",\"2022-08-22T18:21:15+00:00\",\"2022-08-22T19:40:14+00:00\",\"2022-08-23T13:54:02+00:00\",\"2022-08-23T16:07:07+00:00\",\"2022-08-23T18:54:58+00:00\",\"2022-08-24T14:14:36+00:00\",\"2022-08-24T14:45:41+00:00\",\"2022-08-24T14:46:49+00:00\",\"2022-08-24T16:02:21+00:00\",\"2022-08-24T16:35:29+00:00\",\"2022-08-24T16:44:24+00:00\",\"2022-08-24T16:48:00+00:00\",\"2022-08-24T16:51:02+00:00\",\"2022-08-24T17:35:44+00:00\",\"2022-08-24T17:40:46+00:00\",\"2022-08-24T17:41:29+00:00\",\"2022-08-24T18:10:54+00:00\",\"2022-08-24T18:10:55+00:00\",\"2022-08-24T18:34:10+00:00\",\"2022-08-24T18:44:42+00:00\",\"2022-08-24T18:45:07+00:00\",\"2022-08-24T18:48:04+00:00\",\"2022-08-24T18:54:06+00:00\",\"2022-08-24T18:54:48+00:00\",\"2022-08-24T18:56:31+00:00\",\"2022-08-24T18:57:53+00:00\",\"2022-08-24T19:02:56+00:00\",\"2022-08-24T19:06:35+00:00\",\"2022-08-24T19:07:24+00:00\",\"2022-08-24T19:14:00+00:00\",\"2022-08-24T19:16:26+00:00\",\"2022-08-24T19:18:08+00:00\",\"2022-08-24T19:22:50+00:00\",\"2022-08-24T19:29:52+00:00\",\"2022-08-24T19:29:52+00:00\",\"2022-08-24T19:30:33+00:00\",\"2022-08-24T19:39:13+00:00\",\"2022-08-24T19:40:29+00:00\",\"2022-08-24T19:47:44+00:00\",\"2022-08-24T19:52:51+00:00\",\"2022-08-24T19:54:58+00:00\",\"2022-08-24T19:56:19+00:00\",\"2022-08-24T19:57:35+00:00\",\"2022-08-24T19:58:12+00:00\",\"2022-08-24T19:58:22+00:00\",\"2022-08-24T19:58:43+00:00\",\"2022-08-24T19:58:55+00:00\",\"2022-08-24T19:59:26+00:00\",\"2022-08-24T19:59:29+00:00\",\"2022-08-24T19:59:41+00:00\",\"2022-08-24T19:59:49+00:00\",\"2022-08-24T19:59:59+00:00\",\"2022-09-19T13:41:50+00:00\",\"2022-09-19T14:39:42+00:00\",\"2022-09-20T17:59:19+00:00\",\"2022-09-22T13:39:46+00:00\",\"2022-09-22T13:58:10+00:00\",\"2022-09-22T15:42:17+00:00\",\"2022-09-22T17:46:33+00:00\",\"2022-09-22T19:12:38+00:00\",\"2022-09-22T19:25:53+00:00\",\"2022-09-23T15:32:44+00:00\",\"2022-09-23T16:22:15+00:00\",\"2022-09-23T18:17:08+00:00\",\"2022-09-23T19:03:09+00:00\",\"2022-09-23T19:36:18+00:00\",\"2022-09-26T13:30:00+00:00\",\"2022-09-26T13:31:20+00:00\",\"2022-09-26T14:00:25+00:00\",\"2022-09-26T17:25:27+00:00\",\"2022-09-27T14:59:32+00:00\",\"2022-09-27T17:01:00+00:00\",\"2022-09-27T19:35:30+00:00\",\"2022-09-27T19:48:55+00:00\",\"2022-09-28T14:33:44+00:00\",\"2022-09-28T16:25:23+00:00\",\"2022-09-28T17:27:49+00:00\",\"2022-09-28T18:11:50+00:00\",\"2022-09-28T18:40:45+00:00\",\"2022-09-28T18:50:22+00:00\",\"2022-09-28T18:53:36+00:00\",\"2022-09-28T18:58:28+00:00\",\"2022-09-28T19:39:12+00:00\",\"2022-09-29T14:22:23+00:00\",\"2022-09-29T14:41:18+00:00\",\"2022-09-29T14:52:02+00:00\",\"2022-09-29T16:52:13+00:00\",\"2022-09-29T17:16:47+00:00\",\"2022-09-29T17:24:29+00:00\",\"2022-09-29T17:27:52+00:00\",\"2022-09-29T17:30:48+00:00\",\"2022-09-29T17:36:56+00:00\",\"2022-09-29T17:51:45+00:00\",\"2022-09-29T18:05:56+00:00\",\"2022-09-29T18:09:52+00:00\",\"2022-09-29T18:14:49+00:00\",\"2022-09-29T18:22:30+00:00\",\"2022-09-29T18:27:23+00:00\",\"2022-09-29T18:34:20+00:00\",\"2022-09-29T19:08:47+00:00\",\"2022-09-29T19:09:18+00:00\",\"2022-09-29T19:09:27+00:00\",\"2022-09-29T19:10:51+00:00\",\"2022-09-29T19:12:11+00:00\",\"2022-09-29T19:13:35+00:00\",\"2022-09-29T19:16:13+00:00\",\"2022-09-29T19:17:02+00:00\",\"2022-09-29T19:24:02+00:00\",\"2022-09-29T19:24:18+00:00\",\"2022-09-29T19:36:01+00:00\",\"2022-09-29T19:36:02+00:00\",\"2022-09-29T19:37:45+00:00\",\"2022-09-29T19:44:07+00:00\",\"2022-09-29T19:47:27+00:00\",\"2022-09-29T19:49:42+00:00\",\"2022-09-29T19:49:48+00:00\",\"2022-09-29T19:54:30+00:00\",\"2022-09-29T19:54:30+00:00\",\"2022-09-29T19:55:17+00:00\",\"2022-09-29T19:55:45+00:00\",\"2022-09-29T19:56:16+00:00\",\"2022-09-29T19:56:38+00:00\",\"2022-09-29T19:57:28+00:00\",\"2022-09-29T19:57:52+00:00\",\"2022-09-29T19:58:09+00:00\",\"2022-09-29T19:58:32+00:00\",\"2022-09-29T19:58:36+00:00\",\"2022-09-29T19:58:53+00:00\",\"2022-09-29T19:58:59+00:00\",\"2022-09-29T19:59:04+00:00\",\"2022-09-29T19:59:05+00:00\",\"2022-09-29T19:59:09+00:00\",\"2022-09-29T19:59:12+00:00\",\"2022-09-29T19:59:12+00:00\",\"2022-09-29T19:59:32+00:00\",\"2022-09-29T19:59:37+00:00\",\"2022-09-29T19:59:37+00:00\",\"2022-09-29T19:59:38+00:00\",\"2022-09-29T19:59:38+00:00\",\"2022-09-29T19:59:39+00:00\",\"2022-09-29T19:59:40+00:00\",\"2022-09-29T19:59:46+00:00\",\"2022-09-29T19:59:52+00:00\",\"2022-09-29T19:59:52+00:00\",\"2022-09-29T19:59:54+00:00\",\"2022-09-29T19:59:56+00:00\",\"2022-09-29T19:59:57+00:00\",\"2022-09-29T19:59:57+00:00\",\"2022-09-29T19:59:57+00:00\",\"2022-09-29T19:59:57+00:00\",\"2022-09-29T19:59:57+00:00\",\"2022-09-29T19:59:58+00:00\",\"2022-09-29T19:59:59+00:00\",\"2022-09-29T19:59:59+00:00\",\"2022-09-29T19:59:59+00:00\",\"2022-09-29T19:59:59+00:00\",\"2022-09-29T19:59:59+00:00\"],\"xaxis\":\"x\",\"y\":[0.0,0.0,0.0,0.0,0.0,0.0,0.0,0.0,0.0,0.0,0.0,0.0,0.0,0.0,0.0,0.0,0.0,0.0,0.0,0.0,0.0,0.0,0.0,0.0,0.0,0.0,0.0,0.0,0.0,0.0,0.0,0.0,0.0,0.0,0.0,0.0,0.0,0.0,0.0,0.0,0.0,0.0,0.0,0.0,0.0,0.0,0.0,0.0,0.0,0.0,0.0,0.0,0.0,0.0,0.0,0.0,0.0,0.0,0.0,0.0,0.0,0.0,0.0,0.0,158.65999999999997,0.0,167.0,141.99999999999997,0.0,0.0,0.0,133.66,0.0,85.32999999999998,0.0,150.32999999999998,0.0,66.99999999999997,116.99999999999997,105.32999999999998,0.0,60.329999999999984,0.0,108.66,115.32999999999998,0.0,70.32999999999998,0.0,65.32999999999998,0.0,0.0,0.0,91.99999999999997,175.32999999999998,0.0,45.329999999999984,0.0,0.0,0.0,95.32999999999998,0.0,0.0,0.0,83.66,0.0,0.0,0.0,0.0,0.0,0.0,0.0,33.66,58.66,0.0,0.0,125.32999999999998,41.99999999999997,0.0,100.32999999999998,55.329999999999984,0.0,0.0,75.32999999999998,50.329999999999984,0.0,35.329999999999984,0.0,40.329999999999984,0.0,0.0,30.329999999999984,0.0,0.0,0.0,0.0,0.0,25.329999999999984,0.0,0.0,0.0,0.0,0.0,0.0,8.659999999999968,17.0,0.0,0.0,20.329999999999984,10.329999999999984,0.0,3.659999999999968,0.0,0.0,2.0,15.329999999999984,5.329999999999984,0.0,0.0,0.0,0.0,0.3299999999999841,0.0,0.0],\"yaxis\":\"y\"}],                        {\"legend\":{\"tracegroupgap\":0},\"margin\":{\"t\":60},\"template\":{\"data\":{\"bar\":[{\"error_x\":{\"color\":\"#2a3f5f\"},\"error_y\":{\"color\":\"#2a3f5f\"},\"marker\":{\"line\":{\"color\":\"#E5ECF6\",\"width\":0.5},\"pattern\":{\"fillmode\":\"overlay\",\"size\":10,\"solidity\":0.2}},\"type\":\"bar\"}],\"barpolar\":[{\"marker\":{\"line\":{\"color\":\"#E5ECF6\",\"width\":0.5},\"pattern\":{\"fillmode\":\"overlay\",\"size\":10,\"solidity\":0.2}},\"type\":\"barpolar\"}],\"carpet\":[{\"aaxis\":{\"endlinecolor\":\"#2a3f5f\",\"gridcolor\":\"white\",\"linecolor\":\"white\",\"minorgridcolor\":\"white\",\"startlinecolor\":\"#2a3f5f\"},\"baxis\":{\"endlinecolor\":\"#2a3f5f\",\"gridcolor\":\"white\",\"linecolor\":\"white\",\"minorgridcolor\":\"white\",\"startlinecolor\":\"#2a3f5f\"},\"type\":\"carpet\"}],\"choropleth\":[{\"colorbar\":{\"outlinewidth\":0,\"ticks\":\"\"},\"type\":\"choropleth\"}],\"contour\":[{\"colorbar\":{\"outlinewidth\":0,\"ticks\":\"\"},\"colorscale\":[[0.0,\"#0d0887\"],[0.1111111111111111,\"#46039f\"],[0.2222222222222222,\"#7201a8\"],[0.3333333333333333,\"#9c179e\"],[0.4444444444444444,\"#bd3786\"],[0.5555555555555556,\"#d8576b\"],[0.6666666666666666,\"#ed7953\"],[0.7777777777777778,\"#fb9f3a\"],[0.8888888888888888,\"#fdca26\"],[1.0,\"#f0f921\"]],\"type\":\"contour\"}],\"contourcarpet\":[{\"colorbar\":{\"outlinewidth\":0,\"ticks\":\"\"},\"type\":\"contourcarpet\"}],\"heatmap\":[{\"colorbar\":{\"outlinewidth\":0,\"ticks\":\"\"},\"colorscale\":[[0.0,\"#0d0887\"],[0.1111111111111111,\"#46039f\"],[0.2222222222222222,\"#7201a8\"],[0.3333333333333333,\"#9c179e\"],[0.4444444444444444,\"#bd3786\"],[0.5555555555555556,\"#d8576b\"],[0.6666666666666666,\"#ed7953\"],[0.7777777777777778,\"#fb9f3a\"],[0.8888888888888888,\"#fdca26\"],[1.0,\"#f0f921\"]],\"type\":\"heatmap\"}],\"heatmapgl\":[{\"colorbar\":{\"outlinewidth\":0,\"ticks\":\"\"},\"colorscale\":[[0.0,\"#0d0887\"],[0.1111111111111111,\"#46039f\"],[0.2222222222222222,\"#7201a8\"],[0.3333333333333333,\"#9c179e\"],[0.4444444444444444,\"#bd3786\"],[0.5555555555555556,\"#d8576b\"],[0.6666666666666666,\"#ed7953\"],[0.7777777777777778,\"#fb9f3a\"],[0.8888888888888888,\"#fdca26\"],[1.0,\"#f0f921\"]],\"type\":\"heatmapgl\"}],\"histogram\":[{\"marker\":{\"pattern\":{\"fillmode\":\"overlay\",\"size\":10,\"solidity\":0.2}},\"type\":\"histogram\"}],\"histogram2d\":[{\"colorbar\":{\"outlinewidth\":0,\"ticks\":\"\"},\"colorscale\":[[0.0,\"#0d0887\"],[0.1111111111111111,\"#46039f\"],[0.2222222222222222,\"#7201a8\"],[0.3333333333333333,\"#9c179e\"],[0.4444444444444444,\"#bd3786\"],[0.5555555555555556,\"#d8576b\"],[0.6666666666666666,\"#ed7953\"],[0.7777777777777778,\"#fb9f3a\"],[0.8888888888888888,\"#fdca26\"],[1.0,\"#f0f921\"]],\"type\":\"histogram2d\"}],\"histogram2dcontour\":[{\"colorbar\":{\"outlinewidth\":0,\"ticks\":\"\"},\"colorscale\":[[0.0,\"#0d0887\"],[0.1111111111111111,\"#46039f\"],[0.2222222222222222,\"#7201a8\"],[0.3333333333333333,\"#9c179e\"],[0.4444444444444444,\"#bd3786\"],[0.5555555555555556,\"#d8576b\"],[0.6666666666666666,\"#ed7953\"],[0.7777777777777778,\"#fb9f3a\"],[0.8888888888888888,\"#fdca26\"],[1.0,\"#f0f921\"]],\"type\":\"histogram2dcontour\"}],\"mesh3d\":[{\"colorbar\":{\"outlinewidth\":0,\"ticks\":\"\"},\"type\":\"mesh3d\"}],\"parcoords\":[{\"line\":{\"colorbar\":{\"outlinewidth\":0,\"ticks\":\"\"}},\"type\":\"parcoords\"}],\"pie\":[{\"automargin\":true,\"type\":\"pie\"}],\"scatter\":[{\"marker\":{\"colorbar\":{\"outlinewidth\":0,\"ticks\":\"\"}},\"type\":\"scatter\"}],\"scatter3d\":[{\"line\":{\"colorbar\":{\"outlinewidth\":0,\"ticks\":\"\"}},\"marker\":{\"colorbar\":{\"outlinewidth\":0,\"ticks\":\"\"}},\"type\":\"scatter3d\"}],\"scattercarpet\":[{\"marker\":{\"colorbar\":{\"outlinewidth\":0,\"ticks\":\"\"}},\"type\":\"scattercarpet\"}],\"scattergeo\":[{\"marker\":{\"colorbar\":{\"outlinewidth\":0,\"ticks\":\"\"}},\"type\":\"scattergeo\"}],\"scattergl\":[{\"marker\":{\"colorbar\":{\"outlinewidth\":0,\"ticks\":\"\"}},\"type\":\"scattergl\"}],\"scattermapbox\":[{\"marker\":{\"colorbar\":{\"outlinewidth\":0,\"ticks\":\"\"}},\"type\":\"scattermapbox\"}],\"scatterpolar\":[{\"marker\":{\"colorbar\":{\"outlinewidth\":0,\"ticks\":\"\"}},\"type\":\"scatterpolar\"}],\"scatterpolargl\":[{\"marker\":{\"colorbar\":{\"outlinewidth\":0,\"ticks\":\"\"}},\"type\":\"scatterpolargl\"}],\"scatterternary\":[{\"marker\":{\"colorbar\":{\"outlinewidth\":0,\"ticks\":\"\"}},\"type\":\"scatterternary\"}],\"surface\":[{\"colorbar\":{\"outlinewidth\":0,\"ticks\":\"\"},\"colorscale\":[[0.0,\"#0d0887\"],[0.1111111111111111,\"#46039f\"],[0.2222222222222222,\"#7201a8\"],[0.3333333333333333,\"#9c179e\"],[0.4444444444444444,\"#bd3786\"],[0.5555555555555556,\"#d8576b\"],[0.6666666666666666,\"#ed7953\"],[0.7777777777777778,\"#fb9f3a\"],[0.8888888888888888,\"#fdca26\"],[1.0,\"#f0f921\"]],\"type\":\"surface\"}],\"table\":[{\"cells\":{\"fill\":{\"color\":\"#EBF0F8\"},\"line\":{\"color\":\"white\"}},\"header\":{\"fill\":{\"color\":\"#C8D4E3\"},\"line\":{\"color\":\"white\"}},\"type\":\"table\"}]},\"layout\":{\"annotationdefaults\":{\"arrowcolor\":\"#2a3f5f\",\"arrowhead\":0,\"arrowwidth\":1},\"autotypenumbers\":\"strict\",\"coloraxis\":{\"colorbar\":{\"outlinewidth\":0,\"ticks\":\"\"}},\"colorscale\":{\"diverging\":[[0,\"#8e0152\"],[0.1,\"#c51b7d\"],[0.2,\"#de77ae\"],[0.3,\"#f1b6da\"],[0.4,\"#fde0ef\"],[0.5,\"#f7f7f7\"],[0.6,\"#e6f5d0\"],[0.7,\"#b8e186\"],[0.8,\"#7fbc41\"],[0.9,\"#4d9221\"],[1,\"#276419\"]],\"sequential\":[[0.0,\"#0d0887\"],[0.1111111111111111,\"#46039f\"],[0.2222222222222222,\"#7201a8\"],[0.3333333333333333,\"#9c179e\"],[0.4444444444444444,\"#bd3786\"],[0.5555555555555556,\"#d8576b\"],[0.6666666666666666,\"#ed7953\"],[0.7777777777777778,\"#fb9f3a\"],[0.8888888888888888,\"#fdca26\"],[1.0,\"#f0f921\"]],\"sequentialminus\":[[0.0,\"#0d0887\"],[0.1111111111111111,\"#46039f\"],[0.2222222222222222,\"#7201a8\"],[0.3333333333333333,\"#9c179e\"],[0.4444444444444444,\"#bd3786\"],[0.5555555555555556,\"#d8576b\"],[0.6666666666666666,\"#ed7953\"],[0.7777777777777778,\"#fb9f3a\"],[0.8888888888888888,\"#fdca26\"],[1.0,\"#f0f921\"]]},\"colorway\":[\"#636efa\",\"#EF553B\",\"#00cc96\",\"#ab63fa\",\"#FFA15A\",\"#19d3f3\",\"#FF6692\",\"#B6E880\",\"#FF97FF\",\"#FECB52\"],\"font\":{\"color\":\"#2a3f5f\"},\"geo\":{\"bgcolor\":\"white\",\"lakecolor\":\"white\",\"landcolor\":\"#E5ECF6\",\"showlakes\":true,\"showland\":true,\"subunitcolor\":\"white\"},\"hoverlabel\":{\"align\":\"left\"},\"hovermode\":\"closest\",\"mapbox\":{\"style\":\"light\"},\"paper_bgcolor\":\"white\",\"plot_bgcolor\":\"#E5ECF6\",\"polar\":{\"angularaxis\":{\"gridcolor\":\"white\",\"linecolor\":\"white\",\"ticks\":\"\"},\"bgcolor\":\"#E5ECF6\",\"radialaxis\":{\"gridcolor\":\"white\",\"linecolor\":\"white\",\"ticks\":\"\"}},\"scene\":{\"xaxis\":{\"backgroundcolor\":\"#E5ECF6\",\"gridcolor\":\"white\",\"gridwidth\":2,\"linecolor\":\"white\",\"showbackground\":true,\"ticks\":\"\",\"zerolinecolor\":\"white\"},\"yaxis\":{\"backgroundcolor\":\"#E5ECF6\",\"gridcolor\":\"white\",\"gridwidth\":2,\"linecolor\":\"white\",\"showbackground\":true,\"ticks\":\"\",\"zerolinecolor\":\"white\"},\"zaxis\":{\"backgroundcolor\":\"#E5ECF6\",\"gridcolor\":\"white\",\"gridwidth\":2,\"linecolor\":\"white\",\"showbackground\":true,\"ticks\":\"\",\"zerolinecolor\":\"white\"}},\"shapedefaults\":{\"line\":{\"color\":\"#2a3f5f\"}},\"ternary\":{\"aaxis\":{\"gridcolor\":\"white\",\"linecolor\":\"white\",\"ticks\":\"\"},\"baxis\":{\"gridcolor\":\"white\",\"linecolor\":\"white\",\"ticks\":\"\"},\"bgcolor\":\"#E5ECF6\",\"caxis\":{\"gridcolor\":\"white\",\"linecolor\":\"white\",\"ticks\":\"\"}},\"title\":{\"x\":0.05},\"xaxis\":{\"automargin\":true,\"gridcolor\":\"white\",\"linecolor\":\"white\",\"ticks\":\"\",\"title\":{\"standoff\":15},\"zerolinecolor\":\"white\",\"zerolinewidth\":2},\"yaxis\":{\"automargin\":true,\"gridcolor\":\"white\",\"linecolor\":\"white\",\"ticks\":\"\",\"title\":{\"standoff\":15},\"zerolinecolor\":\"white\",\"zerolinewidth\":2}}},\"xaxis\":{\"anchor\":\"y\",\"domain\":[0.0,1.0],\"title\":{\"text\":\"lastTradeDate\"}},\"yaxis\":{\"anchor\":\"x\",\"domain\":[0.0,1.0],\"title\":{\"text\":\"Black Scholes Estimate\"}}},                        {\"responsive\": true}                    ).then(function(){\n",
       "                            \n",
       "var gd = document.getElementById('2f239e6d-ee19-422a-8bb7-2874fedda3f9');\n",
       "var x = new MutationObserver(function (mutations, observer) {{\n",
       "        var display = window.getComputedStyle(gd).display;\n",
       "        if (!display || display === 'none') {{\n",
       "            console.log([gd, 'removed!']);\n",
       "            Plotly.purge(gd);\n",
       "            observer.disconnect();\n",
       "        }}\n",
       "}});\n",
       "\n",
       "// Listen for the removal of the full notebook cells\n",
       "var notebookContainer = gd.closest('#notebook-container');\n",
       "if (notebookContainer) {{\n",
       "    x.observe(notebookContainer, {childList: true});\n",
       "}}\n",
       "\n",
       "// Listen for the clearing of the current output cell\n",
       "var outputEl = gd.closest('.output');\n",
       "if (outputEl) {{\n",
       "    x.observe(outputEl, {childList: true});\n",
       "}}\n",
       "\n",
       "                        })                };                });            </script>        </div>"
      ]
     },
     "metadata": {},
     "output_type": "display_data"
    }
   ],
   "source": [
    "df_estimate\n",
    "\n",
    "df = df_estimate\n",
    "df = df.sort_values(by = 'lastTradeDate')\n",
    "fig = px.line(df, x = 'lastTradeDate', y = 'Black Scholes Estimate')\n",
    "fig.show()"
   ]
  },
  {
   "cell_type": "code",
   "execution_count": 39,
   "id": "051f9b22-0950-4bea-a2ea-b1359cf9f53a",
   "metadata": {},
   "outputs": [],
   "source": [
    "#git hub jawn https://github.com/kpmooney/numerical_methods_youtube/blob/master/binomial_model/Binomial%20Model.ipynb\n",
    "\n",
    "import math\n",
    "\n",
    "r = opt.calls\n",
    "\n",
    "\n",
    "\n",
    "def Binomial(S0,K, r,T,N,sigma):\n",
    "    #constants \n",
    "    u = math.exp(sigma)\n",
    "    d = 1/u\n",
    "    dt = T/N\n",
    "    q = (math.exp(r*dt) - d) / (u-d)\n",
    "    disc = np.exp(-r*dt)\n",
    "    S = np.zeros(N+1)\n",
    "    S[0] = S0*d**N\n",
    "    for a in range(1, N+1):\n",
    "        S[a] = S[a-1]*u/d\n",
    "        \n",
    "    C = np.zeros(N+1)\n",
    "    for a in range(0, N+1):\n",
    "        C[a] = max(0, S[a]-K)\n",
    "    \n",
    "    for i in np.arange(N, 0, -1):\n",
    "        for a in range(0,i):\n",
    "            C[a] = disc * ( q*C[a+1] + (1-q)*C[a] )\n",
    "            \n",
    "    return C[0]\n",
    "\n",
    "\n",
    "\n",
    "\n",
    "bi_estimates = []\n",
    "\n",
    "\n",
    "for i in range(0,163):\n",
    "    bi_value = Binomial(S0 = 275.33,\n",
    "                            r = 0.69,\n",
    "                            K = r['strike'][i],\n",
    "                            T = (datetime.datetime.strptime('2022-09-30', \"%Y-%m-%d\") - \n",
    "                             datetime.datetime.now()).days / 365,\n",
    "                            sigma = np.sqrt(252) * df1['Returns'].std(),\n",
    "                            N = 50)\n",
    "    bi_estimates.append(bi_value)"
   ]
  },
  {
   "cell_type": "code",
   "execution_count": 35,
   "id": "8a0f35e3",
   "metadata": {
    "scrolled": false
   },
   "outputs": [
    {
     "ename": "NameError",
     "evalue": "name 'u' is not defined",
     "output_type": "error",
     "traceback": [
      "\u001b[0;31m---------------------------------------------------------------------------\u001b[0m",
      "\u001b[0;31mNameError\u001b[0m                                 Traceback (most recent call last)",
      "\u001b[0;32m/var/folders/ch/x47y97692mj61gb3h3t9zs2w0000gn/T/ipykernel_33740/2623638436.py\u001b[0m in \u001b[0;36m<module>\u001b[0;34m\u001b[0m\n\u001b[1;32m     57\u001b[0m                             \u001b[0msigma\u001b[0m \u001b[0;34m=\u001b[0m \u001b[0mnp\u001b[0m\u001b[0;34m.\u001b[0m\u001b[0msqrt\u001b[0m\u001b[0;34m(\u001b[0m\u001b[0;36m252\u001b[0m\u001b[0;34m)\u001b[0m \u001b[0;34m*\u001b[0m \u001b[0mdf1\u001b[0m\u001b[0;34m[\u001b[0m\u001b[0;34m'Returns'\u001b[0m\u001b[0;34m]\u001b[0m\u001b[0;34m.\u001b[0m\u001b[0mstd\u001b[0m\u001b[0;34m(\u001b[0m\u001b[0;34m)\u001b[0m\u001b[0;34m,\u001b[0m\u001b[0;34m\u001b[0m\u001b[0;34m\u001b[0m\u001b[0m\n\u001b[1;32m     58\u001b[0m                             \u001b[0mu\u001b[0m \u001b[0;34m=\u001b[0m \u001b[0mmath\u001b[0m\u001b[0;34m.\u001b[0m\u001b[0mexp\u001b[0m\u001b[0;34m(\u001b[0m\u001b[0msigma\u001b[0m\u001b[0;34m)\u001b[0m\u001b[0;34m,\u001b[0m\u001b[0;34m\u001b[0m\u001b[0;34m\u001b[0m\u001b[0m\n\u001b[0;32m---> 59\u001b[0;31m                             \u001b[0md\u001b[0m \u001b[0;34m=\u001b[0m \u001b[0;36m1\u001b[0m\u001b[0;34m/\u001b[0m\u001b[0mu\u001b[0m\u001b[0;34m,\u001b[0m\u001b[0;34m\u001b[0m\u001b[0;34m\u001b[0m\u001b[0m\n\u001b[0m\u001b[1;32m     60\u001b[0m                             N = 3)\n\u001b[1;32m     61\u001b[0m     \u001b[0mbi_estimates\u001b[0m\u001b[0;34m.\u001b[0m\u001b[0mappend\u001b[0m\u001b[0;34m(\u001b[0m\u001b[0mbi_value\u001b[0m\u001b[0;34m)\u001b[0m\u001b[0;34m\u001b[0m\u001b[0;34m\u001b[0m\u001b[0m\n",
      "\u001b[0;31mNameError\u001b[0m: name 'u' is not defined"
     ]
    }
   ],
   "source": [
    "# call option other\n",
    "\n",
    "\n",
    "import math\n",
    "\n",
    "r = opt.calls\n",
    "\n",
    "sigma = np.sqrt(252) * df1['Returns'].std()\n",
    "\n",
    "\n",
    "\n",
    "def Binomial(S0,K,u,d,r,T,N,sigma):\n",
    "    #constants \n",
    "    dt = T/N\n",
    "    q = (np.exp(r*dt) - d) / (u-d)\n",
    "    disc = np.exp(-r*dt)\n",
    "    \n",
    "    S = np.zeros(N+1)\n",
    "    S[0] = S0*d**N\n",
    "    for a in range(1, N+1):\n",
    "        S[a] = S[a-1]*u/d\n",
    "        \n",
    "    C = np.zeros(N+1)\n",
    "    for a in range(0, N+1):\n",
    "        C[a] = max(0, S[a]-K)\n",
    "    \n",
    "    for i in np.arange(N, 0, -1):\n",
    "        for a in range(0,i):\n",
    "            C[a] = disc * (q*C[a+1] + (1-q)*C[a])\n",
    "            \n",
    "    return C[0]\n",
    "\n",
    "\n",
    "\n",
    "bi_estimates = []\n",
    "\n",
    "\n",
    "for i in range(0,163):\n",
    "    bi_value = Binomial(S0 = 275.33,\n",
    "                            r = 0.69,\n",
    "                            K = r['strike'][i],\n",
    "                            T = (datetime.datetime.strptime('2022-09-30', \"%Y-%m-%d\") - \n",
    "                             datetime.datetime.now()).days / 365,\n",
    "                            sigma = np.sqrt(252) * df1['Returns'].std(),\n",
    "                            u = math.exp(sigma),\n",
    "                            d = 1/u,\n",
    "                            N = 3)\n",
    "    bi_estimates.append(bi_value)"
   ]
  },
  {
   "cell_type": "code",
   "execution_count": 15,
   "id": "b8e240bc",
   "metadata": {},
   "outputs": [],
   "source": [
    "def Binomial(S0, r, K, N):\n",
    "    # N = # of binomial layers\n",
    "    # S0 = inital stock price\n",
    "    # u = factor of upstep\n",
    "    # r = risk free interest rate\n",
    "    # K = Strike Price\n",
    "    sigma = np.sqrt(252) * df1['Returns'].std()\n",
    "    u = math.exp(sigma)\n",
    "    d = 1 / u\n",
    "    p = (1 + r - d) / (u - d)\n",
    "    q = 1 - p\n",
    "\n",
    "    # make stock price tree\n",
    "    stock = np.zeros([N + 1, N + 1])\n",
    "    for i in range(N + 1):\n",
    "        for j in range(i + 1):\n",
    "            stock[j, i] = S0 * (u ** (i - j)) * (d ** j)\n",
    "\n",
    "    # Generate option prices recursively\n",
    "    option = np.zeros([N + 1, N + 1])\n",
    "    option[:, N] = np.maximum(np.zeros(N + 1), (stock[:, N] - K))\n",
    "    for i in range(N - 1, -1, -1):\n",
    "        for j in range(i + 1):\n",
    "            option[j, i] = (\n",
    "                1 / (1 + r) * (p * option[j, i + 1] + q * option[j + 1, i + 1])\n",
    "            )\n",
    "    return option\n",
    "    \"\"\"\n",
    "    d = 1/u \n",
    "    p = (1 + r - d) / (u - d)\n",
    "    q = 1 - p\n",
    "    \n",
    "    # price tree\n",
    "    stock = np.zeros([N + 1, N + 1])\n",
    "    for n in range (N + 1):\n",
    "        for i in range(n + 1):\n",
    "            stock[i, n] = S0 * (u ** (n - i)) * (d ** i)\n",
    "        \n",
    "    option = np.zeros([N+1, N+1])\n",
    "    option[:, N] = np.maximum(np.zeros(N + 1), (stock[:,N] - K))\n",
    "    for n in range (N -1, -1, -1):\n",
    "        for i in range (n + 1):\n",
    "            option [i, n] = (\n",
    "                1 / (1 + r) * (p * option[i, n + 1] + q * option[i + 1, n + 1])\n",
    "            )                                                                                                        \n",
    "    return option\n",
    "                                                                           \n",
    "for i in range(0,163):\n",
    "    bi_value = Binomial(S0 = 275.33,\n",
    "                            r = 0.69,\n",
    "                            K = r['strike'][i],\n",
    "                           # T = (datetime.datetime.strptime('2022-09-30', \"%Y-%m-%d\") - \n",
    "                            # datetime.datetime.now()).days / 365,\n",
    "                            N = 3)\n",
    "    bi_estimates.append(bi_value)                                                                          \n",
    "    \"\"\"              \n",
    "                                                                           \n",
    "                                                                           \n",
    "                                                                        "
   ]
  },
  {
   "cell_type": "code",
   "execution_count": 91,
   "id": "f4404b0d",
   "metadata": {},
   "outputs": [
    {
     "ename": "ValueError",
     "evalue": "Shape of passed values is (1793, 1), indices imply (163, 1)",
     "output_type": "error",
     "traceback": [
      "\u001b[0;31m---------------------------------------------------------------------------\u001b[0m",
      "\u001b[0;31mValueError\u001b[0m                                Traceback (most recent call last)",
      "\u001b[0;32m/var/folders/ch/x47y97692mj61gb3h3t9zs2w0000gn/T/ipykernel_33740/3804352843.py\u001b[0m in \u001b[0;36m<module>\u001b[0;34m\u001b[0m\n\u001b[0;32m----> 1\u001b[0;31m \u001b[0mbi_list\u001b[0m \u001b[0;34m=\u001b[0m \u001b[0mpd\u001b[0m\u001b[0;34m.\u001b[0m\u001b[0mDataFrame\u001b[0m\u001b[0;34m(\u001b[0m\u001b[0mdata\u001b[0m \u001b[0;34m=\u001b[0m \u001b[0mbi_estimates\u001b[0m\u001b[0;34m,\u001b[0m \u001b[0mindex\u001b[0m \u001b[0;34m=\u001b[0m \u001b[0mr\u001b[0m\u001b[0;34m.\u001b[0m\u001b[0mindex\u001b[0m\u001b[0;34m)\u001b[0m\u001b[0;34m\u001b[0m\u001b[0;34m\u001b[0m\u001b[0m\n\u001b[0m\u001b[1;32m      2\u001b[0m \u001b[0mbi_list\u001b[0m\u001b[0;34m[\u001b[0m\u001b[0;34m'Binomial Estimate'\u001b[0m\u001b[0;34m]\u001b[0m \u001b[0;34m=\u001b[0m \u001b[0mbi_list\u001b[0m\u001b[0;34m[\u001b[0m\u001b[0;36m0\u001b[0m\u001b[0;34m]\u001b[0m\u001b[0;34m\u001b[0m\u001b[0;34m\u001b[0m\u001b[0m\n\u001b[1;32m      3\u001b[0m \u001b[0;32mdel\u001b[0m \u001b[0mbi_list\u001b[0m\u001b[0;34m[\u001b[0m\u001b[0;36m0\u001b[0m\u001b[0;34m]\u001b[0m\u001b[0;34m\u001b[0m\u001b[0;34m\u001b[0m\u001b[0m\n\u001b[1;32m      4\u001b[0m \u001b[0mdf_estimate\u001b[0m \u001b[0;34m=\u001b[0m \u001b[0mr\u001b[0m\u001b[0;34m.\u001b[0m\u001b[0mmerge\u001b[0m\u001b[0;34m(\u001b[0m\u001b[0mbi_list\u001b[0m\u001b[0;34m,\u001b[0m \u001b[0mright_index\u001b[0m \u001b[0;34m=\u001b[0m \u001b[0;32mTrue\u001b[0m\u001b[0;34m,\u001b[0m \u001b[0mleft_index\u001b[0m \u001b[0;34m=\u001b[0m \u001b[0;32mTrue\u001b[0m\u001b[0;34m)\u001b[0m\u001b[0;34m\u001b[0m\u001b[0;34m\u001b[0m\u001b[0m\n\u001b[1;32m      5\u001b[0m \u001b[0;34m\u001b[0m\u001b[0m\n",
      "\u001b[0;32m~/opt/anaconda3/lib/python3.9/site-packages/pandas/core/frame.py\u001b[0m in \u001b[0;36m__init__\u001b[0;34m(self, data, index, columns, dtype, copy)\u001b[0m\n\u001b[1;32m    709\u001b[0m                     )\n\u001b[1;32m    710\u001b[0m                 \u001b[0;32melse\u001b[0m\u001b[0;34m:\u001b[0m\u001b[0;34m\u001b[0m\u001b[0;34m\u001b[0m\u001b[0m\n\u001b[0;32m--> 711\u001b[0;31m                     mgr = ndarray_to_mgr(\n\u001b[0m\u001b[1;32m    712\u001b[0m                         \u001b[0mdata\u001b[0m\u001b[0;34m,\u001b[0m\u001b[0;34m\u001b[0m\u001b[0;34m\u001b[0m\u001b[0m\n\u001b[1;32m    713\u001b[0m                         \u001b[0mindex\u001b[0m\u001b[0;34m,\u001b[0m\u001b[0;34m\u001b[0m\u001b[0;34m\u001b[0m\u001b[0m\n",
      "\u001b[0;32m~/opt/anaconda3/lib/python3.9/site-packages/pandas/core/internals/construction.py\u001b[0m in \u001b[0;36mndarray_to_mgr\u001b[0;34m(values, index, columns, dtype, copy, typ)\u001b[0m\n\u001b[1;32m    322\u001b[0m     )\n\u001b[1;32m    323\u001b[0m \u001b[0;34m\u001b[0m\u001b[0m\n\u001b[0;32m--> 324\u001b[0;31m     \u001b[0m_check_values_indices_shape_match\u001b[0m\u001b[0;34m(\u001b[0m\u001b[0mvalues\u001b[0m\u001b[0;34m,\u001b[0m \u001b[0mindex\u001b[0m\u001b[0;34m,\u001b[0m \u001b[0mcolumns\u001b[0m\u001b[0;34m)\u001b[0m\u001b[0;34m\u001b[0m\u001b[0;34m\u001b[0m\u001b[0m\n\u001b[0m\u001b[1;32m    325\u001b[0m \u001b[0;34m\u001b[0m\u001b[0m\n\u001b[1;32m    326\u001b[0m     \u001b[0;32mif\u001b[0m \u001b[0mtyp\u001b[0m \u001b[0;34m==\u001b[0m \u001b[0;34m\"array\"\u001b[0m\u001b[0;34m:\u001b[0m\u001b[0;34m\u001b[0m\u001b[0;34m\u001b[0m\u001b[0m\n",
      "\u001b[0;32m~/opt/anaconda3/lib/python3.9/site-packages/pandas/core/internals/construction.py\u001b[0m in \u001b[0;36m_check_values_indices_shape_match\u001b[0;34m(values, index, columns)\u001b[0m\n\u001b[1;32m    391\u001b[0m         \u001b[0mpassed\u001b[0m \u001b[0;34m=\u001b[0m \u001b[0mvalues\u001b[0m\u001b[0;34m.\u001b[0m\u001b[0mshape\u001b[0m\u001b[0;34m\u001b[0m\u001b[0;34m\u001b[0m\u001b[0m\n\u001b[1;32m    392\u001b[0m         \u001b[0mimplied\u001b[0m \u001b[0;34m=\u001b[0m \u001b[0;34m(\u001b[0m\u001b[0mlen\u001b[0m\u001b[0;34m(\u001b[0m\u001b[0mindex\u001b[0m\u001b[0;34m)\u001b[0m\u001b[0;34m,\u001b[0m \u001b[0mlen\u001b[0m\u001b[0;34m(\u001b[0m\u001b[0mcolumns\u001b[0m\u001b[0;34m)\u001b[0m\u001b[0;34m)\u001b[0m\u001b[0;34m\u001b[0m\u001b[0;34m\u001b[0m\u001b[0m\n\u001b[0;32m--> 393\u001b[0;31m         \u001b[0;32mraise\u001b[0m \u001b[0mValueError\u001b[0m\u001b[0;34m(\u001b[0m\u001b[0;34mf\"Shape of passed values is {passed}, indices imply {implied}\"\u001b[0m\u001b[0;34m)\u001b[0m\u001b[0;34m\u001b[0m\u001b[0;34m\u001b[0m\u001b[0m\n\u001b[0m\u001b[1;32m    394\u001b[0m \u001b[0;34m\u001b[0m\u001b[0m\n\u001b[1;32m    395\u001b[0m \u001b[0;34m\u001b[0m\u001b[0m\n",
      "\u001b[0;31mValueError\u001b[0m: Shape of passed values is (1793, 1), indices imply (163, 1)"
     ]
    }
   ],
   "source": [
    "bi_list = pd.DataFrame(data = bi_estimates, index = r.index)\n",
    "bi_list['Binomial Estimate'] = bi_list[0]\n",
    "del bi_list[0]\n",
    "df_estimate = r.merge(bi_list, right_index = True, left_index = True)\n",
    "\n",
    "bi_estimate = df_estimate['Binomial Estimate']\n",
    "df_estimate['Binomial Estimate Error'] = ((askprice - bi_estimate)/bi_estimate)*100\n",
    "bi_error = df_estimate['Binomial Estimate Error']\n",
    "#df_estimate['Binomial Estimate Error'].describe()\n",
    "print(df_estimate)"
   ]
  },
  {
   "cell_type": "code",
   "execution_count": 41,
   "id": "fc4d4aa0",
   "metadata": {},
   "outputs": [
    {
     "name": "stderr",
     "output_type": "stream",
     "text": [
      "/Users/ayush/opt/anaconda3/lib/python3.9/site-packages/seaborn/distributions.py:2619: FutureWarning:\n",
      "\n",
      "`distplot` is a deprecated function and will be removed in a future version. Please adapt your code to use either `displot` (a figure-level function with similar flexibility) or `histplot` (an axes-level function for histograms).\n",
      "\n"
     ]
    },
    {
     "data": {
      "text/plain": [
       "count    163.000000\n",
       "mean     -87.405123\n",
       "std       25.294368\n",
       "min     -100.000000\n",
       "25%     -100.000000\n",
       "50%      -99.981380\n",
       "75%      -92.836036\n",
       "max       -5.505692\n",
       "Name: Binomial Estimate Error, dtype: float64"
      ]
     },
     "execution_count": 41,
     "metadata": {},
     "output_type": "execute_result"
    },
    {
     "data": {
      "image/png": "[encoded data removed]",
      "text/plain": [
       "<Figure size 612x612 with 1 Axes>"
      ]
     },
     "metadata": {
      "needs_background": "light"
     },
     "output_type": "display_data"
    }
   ],
   "source": [
    "ax = plt.subplots(figsize=(8.5,8.5)),\n",
    "ax = sns.distplot(bi_error, label = \"Binomial Estimate Error x Density\",\n",
    "                  kde_kws={\"color\": \"k\", \"lw\": 3},\n",
    "                  hist_kws={\"histtype\": \"stepfilled\", \"linewidth\": 3,\n",
    "                            \"alpha\": 0.3, \"color\": \"r\"})\n",
    "ax.set_title('Binomial Estimate Error (TSLA)')\n",
    "#plt.ylim(None, .011)\n",
    "#plt.xlim(-350,350)\n",
    "\n",
    "bi_error.describe()\n",
    "\n"
   ]
  },
  {
   "cell_type": "code",
   "execution_count": 42,
   "id": "8a6bf847",
   "metadata": {},
   "outputs": [
    {
     "data": {
      "text/plain": [
       "(0.0, 170.1)"
      ]
     },
     "execution_count": 42,
     "metadata": {},
     "output_type": "execute_result"
    },
    {
     "data": {
      "image/png": "[encoded data removed]",
      "text/plain": [
       "<Figure size 720x720 with 1 Axes>"
      ]
     },
     "metadata": {
      "needs_background": "light"
     },
     "output_type": "display_data"
    }
   ],
   "source": [
    "ax = plt.subplots(figsize=(10,10))\n",
    "plt.plot(bi_estimate, color=\"b\")\n",
    "plt.plot(askprice, color=\"r\")\n",
    "plt.ylim(0, None) # Or similarly \"plt.ylim(0)\"\n",
    "plt.xlim(0, None) # Or similarly \"plt.ylim(0)\""
   ]
  },
  {
   "cell_type": "code",
   "execution_count": null,
   "id": "d162da4a",
   "metadata": {},
   "outputs": [],
   "source": []
  },
  {
   "cell_type": "code",
   "execution_count": null,
   "id": "9cfbd5b7",
   "metadata": {},
   "outputs": [],
   "source": []
  }
 ],
 "metadata": {
  "kernelspec": {
   "display_name": "Python 3 (ipykernel)",
   "language": "python",
   "name": "python3"
  },
  "language_info": {
   "codemirror_mode": {
    "name": "ipython",
    "version": 3
   },
   "file_extension": ".py",
   "mimetype": "text/x-python",
   "name": "python",
   "nbconvert_exporter": "python",
   "pygments_lexer": "ipython3",
   "version": "3.9.7"
  }
 },
 "nbformat": 4,
 "nbformat_minor": 5
}
